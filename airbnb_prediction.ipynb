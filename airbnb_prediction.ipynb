{
 "cells": [
  {
   "cell_type": "markdown",
   "id": "87dfb1ba",
   "metadata": {},
   "source": [
    "# 0.0 Imports"
   ]
  },
  {
   "cell_type": "code",
   "execution_count": 27,
   "id": "63840722",
   "metadata": {
    "ExecuteTime": {
     "end_time": "2021-12-20T14:11:40.889022Z",
     "start_time": "2021-12-20T14:11:40.396908Z"
    },
    "scrolled": true
   },
   "outputs": [],
   "source": [
    "import random\n",
    "import datetime\n",
    "import multiprocessing\n",
    "import pandas_profiling\n",
    "\n",
    "import pandas   as pd\n",
    "import numpy    as np\n",
    "import seaborn  as sns\n",
    "\n",
    "from keras      import models          as ml\n",
    "from keras      import layers          as l\n",
    "from sklearn    import model_selection as ms\n",
    "from sklearn    import preprocessing   as pp\n",
    "from sklearn    import metrics         as m\n",
    "from scikitplot import metrics         as mt\n",
    "from scipy      import stats           as ss\n",
    "from datetime   import datetime        as dt\n",
    "\n",
    "from imblearn.combine        import SMOTETomek\n",
    "\n",
    "from pandas_profiling        import ProfileReport\n",
    "from imblearn.pipeline       import Pipeline\n",
    "\n",
    "from sklearn.datasets        import make_classification\n",
    "from sklearn.model_selection import cross_validate\n",
    "from sklearn.model_selection import RepeatedStratifiedKFold\n",
    "from category_encoders       import TargetEncoder\n",
    "from IPython.core.display    import HTML"
   ]
  },
  {
   "cell_type": "markdown",
   "id": "d79c85ee",
   "metadata": {},
   "source": [
    "## 0.1 Helper Funtions"
   ]
  },
  {
   "cell_type": "code",
   "execution_count": 28,
   "id": "db629b42",
   "metadata": {
    "ExecuteTime": {
     "end_time": "2021-12-20T14:11:45.058067Z",
     "start_time": "2021-12-20T14:11:45.023200Z"
    }
   },
   "outputs": [],
   "source": [
    "def jupyter_settings():\n",
    "    %matplotlib inline\n",
    "    %pylab inline\n",
    "\n",
    "    plt.style.use( 'bmh' )\n",
    "    plt.rcParams['figure.figsize'] = [18, 10]\n",
    "    plt.rcParams['font.size'] = 24\n",
    "    display( HTML( '<style>.container { width:100% !important; }</style>') )\n",
    "    pd.options.display.max_columns = None\n",
    "    pd.options.display.max_rows = None\n",
    "    pd.set_option( 'display.expand_frame_repr', False )\n",
    "    sns.set()\n",
    "    \n",
    "def cramer_v (x,y):\n",
    "\n",
    "    cm = pd.crosstab(x, y).values\n",
    "    n = cm.sum()\n",
    "    r,k = cm.shape\n",
    "    \n",
    "    chi2 = ss.chi2_contingency( cm )[0]\n",
    "    chi2corr = max(0, chi2 - (k-1)*(r-1)/(n-1))\n",
    "    \n",
    "    kcorr = k - (k -1)**2/(n-1)\n",
    "    rcorr = r - (r -1)**2/(n-1)\n",
    "    \n",
    "    return np.sqrt((chi2corr/n)/(min(kcorr-1, rcorr-1)))"
   ]
  },
  {
   "cell_type": "code",
   "execution_count": 29,
   "id": "99f3172e",
   "metadata": {
    "ExecuteTime": {
     "end_time": "2021-12-20T14:11:47.019994Z",
     "start_time": "2021-12-20T14:11:46.997543Z"
    }
   },
   "outputs": [
    {
     "name": "stdout",
     "output_type": "stream",
     "text": [
      "Populating the interactive namespace from numpy and matplotlib\n"
     ]
    },
    {
     "name": "stderr",
     "output_type": "stream",
     "text": [
      "C:\\Users\\marin\\.conda\\envs\\Projeto01\\lib\\site-packages\\IPython\\core\\magics\\pylab.py:159: UserWarning: pylab import has clobbered these variables: ['random']\n",
      "`%matplotlib` prevents importing * from pylab and numpy\n",
      "  warn(\"pylab import has clobbered these variables: %s\"  % clobbered +\n"
     ]
    },
    {
     "data": {
      "text/html": [
       "<style>.container { width:100% !important; }</style>"
      ],
      "text/plain": [
       "<IPython.core.display.HTML object>"
      ]
     },
     "metadata": {},
     "output_type": "display_data"
    }
   ],
   "source": [
    "jupyter_settings()"
   ]
  },
  {
   "cell_type": "markdown",
   "id": "f671b54f",
   "metadata": {},
   "source": [
    "## 0.2 Loanding Data"
   ]
  },
  {
   "cell_type": "code",
   "execution_count": 30,
   "id": "81ec7385",
   "metadata": {
    "ExecuteTime": {
     "end_time": "2021-12-20T14:11:51.313145Z",
     "start_time": "2021-12-20T14:11:50.167135Z"
    }
   },
   "outputs": [
    {
     "data": {
      "text/plain": [
       "(213451, 16)"
      ]
     },
     "execution_count": 30,
     "metadata": {},
     "output_type": "execute_result"
    }
   ],
   "source": [
    "df_raw = pd.read_csv ('training_users.csv', low_memory = True)\n",
    "df_raw.shape"
   ]
  },
  {
   "cell_type": "code",
   "execution_count": 31,
   "id": "4ed2adc1",
   "metadata": {
    "ExecuteTime": {
     "end_time": "2021-12-20T14:12:06.186896Z",
     "start_time": "2021-12-20T14:11:51.317137Z"
    }
   },
   "outputs": [
    {
     "data": {
      "text/plain": [
       "(10567737, 6)"
      ]
     },
     "execution_count": 31,
     "metadata": {},
     "output_type": "execute_result"
    }
   ],
   "source": [
    "df_sessions = pd.read_csv ('sessions.csv', low_memory = True)\n",
    "df_sessions.shape"
   ]
  },
  {
   "cell_type": "markdown",
   "id": "07286555",
   "metadata": {},
   "source": [
    "# 1.0 Data Description"
   ]
  },
  {
   "cell_type": "code",
   "execution_count": 32,
   "id": "707121bf",
   "metadata": {
    "ExecuteTime": {
     "end_time": "2021-12-20T14:12:08.846700Z",
     "start_time": "2021-12-20T14:12:08.813629Z"
    }
   },
   "outputs": [],
   "source": [
    "df1 = df_raw.copy()"
   ]
  },
  {
   "cell_type": "markdown",
   "id": "128ffe47",
   "metadata": {
    "ExecuteTime": {
     "end_time": "2021-12-12T14:24:27.311675Z",
     "start_time": "2021-12-12T14:24:27.295583Z"
    }
   },
   "source": [
    "## 1.1 Data Dimensions"
   ]
  },
  {
   "cell_type": "code",
   "execution_count": 33,
   "id": "d8b3e730",
   "metadata": {
    "ExecuteTime": {
     "end_time": "2021-12-20T14:12:10.060512Z",
     "start_time": "2021-12-20T14:12:10.045505Z"
    }
   },
   "outputs": [
    {
     "name": "stdout",
     "output_type": "stream",
     "text": [
      "Number of Rows: 213451.\n",
      "Number of Columns: 16.\n"
     ]
    }
   ],
   "source": [
    "print('Number of Rows: {}.'.format(df1.shape[0]))\n",
    "print('Number of Columns: {}.'.format(df1.shape[1]))"
   ]
  },
  {
   "cell_type": "code",
   "execution_count": 34,
   "id": "a433eecc",
   "metadata": {
    "ExecuteTime": {
     "end_time": "2021-12-20T14:12:10.850798Z",
     "start_time": "2021-12-20T14:12:10.832843Z"
    },
    "scrolled": true
   },
   "outputs": [
    {
     "name": "stdout",
     "output_type": "stream",
     "text": [
      "Number of Rows: 10567737.\n",
      "Number of Columns: 6.\n"
     ]
    }
   ],
   "source": [
    "print('Number of Rows: {}.'.format(df_sessions.shape[0]))\n",
    "print('Number of Columns: {}.'.format(df_sessions.shape[1]))"
   ]
  },
  {
   "cell_type": "markdown",
   "id": "58d42ae3",
   "metadata": {
    "ExecuteTime": {
     "end_time": "2021-12-09T16:36:14.264625Z",
     "start_time": "2021-12-09T16:36:14.254645Z"
    }
   },
   "source": [
    "## 1.2 Date Type"
   ]
  },
  {
   "cell_type": "code",
   "execution_count": 35,
   "id": "bc983ec2",
   "metadata": {
    "ExecuteTime": {
     "end_time": "2021-12-20T14:12:16.806911Z",
     "start_time": "2021-12-20T14:12:16.792917Z"
    },
    "scrolled": false
   },
   "outputs": [
    {
     "data": {
      "text/plain": [
       "id                          object\n",
       "date_account_created        object\n",
       "timestamp_first_active       int64\n",
       "date_first_booking          object\n",
       "gender                      object\n",
       "age                        float64\n",
       "signup_method               object\n",
       "signup_flow                  int64\n",
       "language                    object\n",
       "affiliate_channel           object\n",
       "affiliate_provider          object\n",
       "first_affiliate_tracked     object\n",
       "signup_app                  object\n",
       "first_device_type           object\n",
       "first_browser               object\n",
       "country_destination         object\n",
       "dtype: object"
      ]
     },
     "execution_count": 35,
     "metadata": {},
     "output_type": "execute_result"
    }
   ],
   "source": [
    "df1.dtypes"
   ]
  },
  {
   "cell_type": "code",
   "execution_count": 36,
   "id": "4ea5c482",
   "metadata": {
    "ExecuteTime": {
     "end_time": "2021-12-20T14:12:17.900991Z",
     "start_time": "2021-12-20T14:12:17.887983Z"
    }
   },
   "outputs": [
    {
     "data": {
      "text/plain": [
       "user_id           object\n",
       "action            object\n",
       "action_type       object\n",
       "action_detail     object\n",
       "device_type       object\n",
       "secs_elapsed     float64\n",
       "dtype: object"
      ]
     },
     "execution_count": 36,
     "metadata": {},
     "output_type": "execute_result"
    }
   ],
   "source": [
    "df_sessions.dtypes"
   ]
  },
  {
   "cell_type": "markdown",
   "id": "9aed965b",
   "metadata": {},
   "source": [
    "## 1.3 NA Check"
   ]
  },
  {
   "cell_type": "code",
   "execution_count": 37,
   "id": "62a42f1a",
   "metadata": {
    "ExecuteTime": {
     "end_time": "2021-12-20T14:12:19.884540Z",
     "start_time": "2021-12-20T14:12:19.578526Z"
    },
    "scrolled": true
   },
   "outputs": [
    {
     "data": {
      "text/plain": [
       "id                         0.000000\n",
       "date_account_created       0.000000\n",
       "timestamp_first_active     0.000000\n",
       "date_first_booking         0.583473\n",
       "gender                     0.000000\n",
       "age                        0.412226\n",
       "signup_method              0.000000\n",
       "signup_flow                0.000000\n",
       "language                   0.000000\n",
       "affiliate_channel          0.000000\n",
       "affiliate_provider         0.000000\n",
       "first_affiliate_tracked    0.028414\n",
       "signup_app                 0.000000\n",
       "first_device_type          0.000000\n",
       "first_browser              0.000000\n",
       "country_destination        0.000000\n",
       "dtype: float64"
      ]
     },
     "execution_count": 37,
     "metadata": {},
     "output_type": "execute_result"
    }
   ],
   "source": [
    "df1.isna().sum() / len (df1)"
   ]
  },
  {
   "cell_type": "code",
   "execution_count": 38,
   "id": "3e14d009",
   "metadata": {
    "ExecuteTime": {
     "end_time": "2021-12-20T14:12:28.797734Z",
     "start_time": "2021-12-20T14:12:23.435730Z"
    }
   },
   "outputs": [
    {
     "data": {
      "text/plain": [
       "user_id          0.003264\n",
       "action           0.007535\n",
       "action_type      0.106570\n",
       "action_detail    0.106570\n",
       "device_type      0.000000\n",
       "secs_elapsed     0.012872\n",
       "dtype: float64"
      ]
     },
     "execution_count": 38,
     "metadata": {},
     "output_type": "execute_result"
    }
   ],
   "source": [
    "df_sessions.isna().sum() / len (df_sessions)"
   ]
  },
  {
   "cell_type": "markdown",
   "id": "46e2e5b9",
   "metadata": {},
   "source": [
    "## 1.4 Fill NA"
   ]
  },
  {
   "cell_type": "code",
   "execution_count": 39,
   "id": "051d9006",
   "metadata": {
    "ExecuteTime": {
     "end_time": "2021-12-20T14:12:31.132126Z",
     "start_time": "2021-12-20T14:12:30.953849Z"
    }
   },
   "outputs": [],
   "source": [
    "## Remove Missing Values (df1)\n",
    "\n",
    "# date_first_booking\n",
    "\n",
    "# porcentagem das classes\n",
    "\n",
    "aux = df1[df1['date_first_booking'].isna()]\n",
    "aux['country_destination'].value_counts(normalize = True) \n",
    "\n",
    "date_first_booking_max = pd.to_datetime (df1['date_first_booking']).max().strftime( '%Y%m%d' )\n",
    "df1['date_first_booking'] = df1['date_first_booking'].fillna (date_first_booking_max)"
   ]
  },
  {
   "cell_type": "code",
   "execution_count": 40,
   "id": "e4e5bd38",
   "metadata": {
    "ExecuteTime": {
     "end_time": "2021-12-20T14:12:32.809173Z",
     "start_time": "2021-12-20T14:12:32.675089Z"
    },
    "scrolled": true
   },
   "outputs": [],
   "source": [
    "# age\n",
    "\n",
    "# porcentagem das classes\n",
    "\n",
    "aux = df1[df1['age'].isna()]\n",
    "aux['country_destination'].value_counts(normalize = True) \n",
    "\n",
    "df1 = df1[(df1['age'] > 15) & (df1['age'] < 120)]\n",
    "avg_age = int(df1['age'].mean())\n",
    "df1['age'] = df1['age'].fillna(avg_age)"
   ]
  },
  {
   "cell_type": "code",
   "execution_count": 41,
   "id": "226371d8",
   "metadata": {
    "ExecuteTime": {
     "end_time": "2021-12-20T14:12:34.748531Z",
     "start_time": "2021-12-20T14:12:34.671051Z"
    }
   },
   "outputs": [],
   "source": [
    "# first_affiliate_tracked  \n",
    "\n",
    "df1 = df1[~df1['first_affiliate_tracked'].isna()]"
   ]
  },
  {
   "cell_type": "code",
   "execution_count": 42,
   "id": "3d3e76dc",
   "metadata": {
    "ExecuteTime": {
     "end_time": "2021-12-20T14:12:51.350446Z",
     "start_time": "2021-12-20T14:12:38.060852Z"
    }
   },
   "outputs": [],
   "source": [
    "## Remove Missing Values (df_sessions)\n",
    "\n",
    "#user_id \n",
    "df_sessions = df_sessions[~df_sessions['user_id'].isna()]\n",
    "\n",
    "#action\n",
    "df_sessions = df_sessions[~df_sessions['action'].isna()]\n",
    "\n",
    "#action_type\n",
    "df_sessions = df_sessions[~df_sessions['action_type'].isna()]\n",
    "\n",
    "#action_detail\n",
    "df_sessions = df_sessions[~df_sessions['action_detail'].isna()]\n",
    "\n",
    "#device_type\n",
    "df_sessions = df_sessions[~df_sessions['device_type'].isna()]\n",
    "\n",
    "#secs_elapsed    \n",
    "df_sessions = df_sessions[~df_sessions['secs_elapsed'].isna()]"
   ]
  },
  {
   "cell_type": "markdown",
   "id": "522caab2",
   "metadata": {},
   "source": [
    "## 1.5 Change Data Type"
   ]
  },
  {
   "cell_type": "code",
   "execution_count": 43,
   "id": "123dc09c",
   "metadata": {
    "ExecuteTime": {
     "end_time": "2021-12-20T14:12:52.471329Z",
     "start_time": "2021-12-20T14:12:51.356264Z"
    }
   },
   "outputs": [],
   "source": [
    "# date_account_created\n",
    "df1['date_account_created'] = pd.to_datetime (df1['date_account_created'])\n",
    "\n",
    "# timestamp_first_active\n",
    "df1['timestamp_first_active'] = pd.to_datetime (df1['timestamp_first_active'], format = '%Y%m%d%H%M%S')\n",
    "\n",
    "#date_first_booking\n",
    "df1['date_first_booking'] = pd.to_datetime (df1['date_first_booking'])\n",
    "\n",
    "# age\n",
    "df1['age'] = df1['age'].astype('int64')"
   ]
  },
  {
   "cell_type": "markdown",
   "id": "78f65671",
   "metadata": {},
   "source": [
    "## 1.6 Check Balanced Data\n"
   ]
  },
  {
   "cell_type": "code",
   "execution_count": 44,
   "id": "fa53ed3f",
   "metadata": {
    "ExecuteTime": {
     "end_time": "2021-12-20T14:12:52.502661Z",
     "start_time": "2021-12-20T14:12:52.479142Z"
    },
    "scrolled": false
   },
   "outputs": [
    {
     "data": {
      "text/plain": [
       "NDF      0.447275\n",
       "US       0.391867\n",
       "other    0.061246\n",
       "FR       0.029918\n",
       "IT       0.016423\n",
       "GB       0.014335\n",
       "ES       0.013740\n",
       "CA       0.008676\n",
       "DE       0.006858\n",
       "NL       0.004852\n",
       "AU       0.003531\n",
       "PT       0.001280\n",
       "Name: country_destination, dtype: float64"
      ]
     },
     "execution_count": 44,
     "metadata": {},
     "output_type": "execute_result"
    }
   ],
   "source": [
    "df1['country_destination'].value_counts(normalize = True) #percent"
   ]
  },
  {
   "cell_type": "markdown",
   "id": "97a315a0",
   "metadata": {},
   "source": [
    "## 1.7 Descriptive Analysis"
   ]
  },
  {
   "cell_type": "code",
   "execution_count": 45,
   "id": "4e520bed",
   "metadata": {
    "ExecuteTime": {
     "end_time": "2021-12-20T14:12:57.057529Z",
     "start_time": "2021-12-20T14:12:56.267427Z"
    }
   },
   "outputs": [],
   "source": [
    "#users\n",
    "\n",
    "num_attributes = df1.select_dtypes(include = ['int64', 'float64'])\n",
    "cat_attributes = df1.select_dtypes(exclude = ['int64', 'float64', 'datetime64[ns]'])\n",
    "time_attributes = df1.select_dtypes(include = ['datetime64[ns]'])\n",
    "\n",
    "#sessions\n",
    "\n",
    "num_attributes_sessions = df_sessions.select_dtypes(include = ['int64', 'float64'])\n",
    "cat_attributes_sessions = df_sessions.select_dtypes(exclude = ['int64', 'float64', 'datetime64[ns]'])\n",
    "time_attributes_sessions = df_sessions.select_dtypes(include = ['datetime64[ns]'])"
   ]
  },
  {
   "cell_type": "markdown",
   "id": "9eae6080",
   "metadata": {},
   "source": [
    "### 1.7.1 Numerical -  Users"
   ]
  },
  {
   "cell_type": "code",
   "execution_count": 46,
   "id": "61da328f",
   "metadata": {
    "ExecuteTime": {
     "end_time": "2021-12-20T14:12:58.677912Z",
     "start_time": "2021-12-20T14:12:58.474885Z"
    }
   },
   "outputs": [
    {
     "data": {
      "text/html": [
       "<div>\n",
       "<style scoped>\n",
       "    .dataframe tbody tr th:only-of-type {\n",
       "        vertical-align: middle;\n",
       "    }\n",
       "\n",
       "    .dataframe tbody tr th {\n",
       "        vertical-align: top;\n",
       "    }\n",
       "\n",
       "    .dataframe thead th {\n",
       "        text-align: right;\n",
       "    }\n",
       "</style>\n",
       "<table border=\"1\" class=\"dataframe\">\n",
       "  <thead>\n",
       "    <tr style=\"text-align: right;\">\n",
       "      <th></th>\n",
       "      <th>attributes</th>\n",
       "      <th>min</th>\n",
       "      <th>max</th>\n",
       "      <th>range</th>\n",
       "      <th>mean</th>\n",
       "      <th>median</th>\n",
       "      <th>std</th>\n",
       "      <th>skew</th>\n",
       "      <th>kurtosis</th>\n",
       "    </tr>\n",
       "  </thead>\n",
       "  <tbody>\n",
       "    <tr>\n",
       "      <th>0</th>\n",
       "      <td>age</td>\n",
       "      <td>16.0</td>\n",
       "      <td>115.0</td>\n",
       "      <td>99.0</td>\n",
       "      <td>37.405591</td>\n",
       "      <td>34.0</td>\n",
       "      <td>13.939844</td>\n",
       "      <td>2.089718</td>\n",
       "      <td>6.516468</td>\n",
       "    </tr>\n",
       "    <tr>\n",
       "      <th>1</th>\n",
       "      <td>signup_flow</td>\n",
       "      <td>0.0</td>\n",
       "      <td>25.0</td>\n",
       "      <td>25.0</td>\n",
       "      <td>2.519513</td>\n",
       "      <td>0.0</td>\n",
       "      <td>6.604696</td>\n",
       "      <td>2.705871</td>\n",
       "      <td>5.928298</td>\n",
       "    </tr>\n",
       "  </tbody>\n",
       "</table>\n",
       "</div>"
      ],
      "text/plain": [
       "    attributes   min    max  range       mean  median        std      skew  kurtosis\n",
       "0          age  16.0  115.0   99.0  37.405591    34.0  13.939844  2.089718  6.516468\n",
       "1  signup_flow   0.0   25.0   25.0   2.519513     0.0   6.604696  2.705871  5.928298"
      ]
     },
     "execution_count": 46,
     "metadata": {},
     "output_type": "execute_result"
    }
   ],
   "source": [
    "# Central Tendency - Mean, Median\n",
    "ct1 = pd.DataFrame (num_attributes.apply (np.mean)).T\n",
    "ct2 = pd.DataFrame (num_attributes.apply (np.median)).T\n",
    "\n",
    "#Dispersion - std, min, max, range, skew, kurtosis\n",
    "\n",
    "d1 = pd.DataFrame (num_attributes.apply (np.std)).T\n",
    "d2 = pd.DataFrame (num_attributes.apply (min)).T\n",
    "d3 = pd.DataFrame (num_attributes.apply (max)).T\n",
    "d4 = pd.DataFrame (num_attributes.apply (lambda x: x.max() - x.min())).T\n",
    "d5 = pd.DataFrame (num_attributes.apply (lambda x: x.skew())).T\n",
    "d6 = pd.DataFrame (num_attributes.apply (lambda x: x.kurtosis())).T\n",
    "\n",
    "# Concatenate\n",
    "\n",
    "t = pd.concat ((d2, d3, d4, ct1, ct2, d1, d5, d6)).T.reset_index()\n",
    "t.columns =['attributes', 'min', 'max', 'range', 'mean', 'median', 'std', 'skew', 'kurtosis']\n",
    "\n",
    "t"
   ]
  },
  {
   "cell_type": "markdown",
   "id": "7a0fa8d1",
   "metadata": {},
   "source": [
    "### 1.7.2 Numerical - Sessions"
   ]
  },
  {
   "cell_type": "code",
   "execution_count": 47,
   "id": "82dec95a",
   "metadata": {
    "ExecuteTime": {
     "end_time": "2021-12-20T14:13:04.903693Z",
     "start_time": "2021-12-20T14:13:01.229066Z"
    },
    "scrolled": true
   },
   "outputs": [
    {
     "data": {
      "text/html": [
       "<div>\n",
       "<style scoped>\n",
       "    .dataframe tbody tr th:only-of-type {\n",
       "        vertical-align: middle;\n",
       "    }\n",
       "\n",
       "    .dataframe tbody tr th {\n",
       "        vertical-align: top;\n",
       "    }\n",
       "\n",
       "    .dataframe thead th {\n",
       "        text-align: right;\n",
       "    }\n",
       "</style>\n",
       "<table border=\"1\" class=\"dataframe\">\n",
       "  <thead>\n",
       "    <tr style=\"text-align: right;\">\n",
       "      <th></th>\n",
       "      <th>attributes</th>\n",
       "      <th>min</th>\n",
       "      <th>max</th>\n",
       "      <th>range</th>\n",
       "      <th>mean</th>\n",
       "      <th>median</th>\n",
       "      <th>std</th>\n",
       "      <th>skew</th>\n",
       "      <th>kurtosis</th>\n",
       "    </tr>\n",
       "  </thead>\n",
       "  <tbody>\n",
       "    <tr>\n",
       "      <th>0</th>\n",
       "      <td>secs_elapsed</td>\n",
       "      <td>0.0</td>\n",
       "      <td>1799977.0</td>\n",
       "      <td>1799977.0</td>\n",
       "      <td>19961.8251</td>\n",
       "      <td>1369.0</td>\n",
       "      <td>88849.388449</td>\n",
       "      <td>11.137761</td>\n",
       "      <td>154.84312</td>\n",
       "    </tr>\n",
       "  </tbody>\n",
       "</table>\n",
       "</div>"
      ],
      "text/plain": [
       "     attributes  min        max      range        mean  median           std       skew   kurtosis\n",
       "0  secs_elapsed  0.0  1799977.0  1799977.0  19961.8251  1369.0  88849.388449  11.137761  154.84312"
      ]
     },
     "execution_count": 47,
     "metadata": {},
     "output_type": "execute_result"
    }
   ],
   "source": [
    "# Central Tendency - Mean, Median\n",
    "ct1 = pd.DataFrame (num_attributes_sessions.apply (np.mean)).T\n",
    "ct2 = pd.DataFrame (num_attributes_sessions.apply (np.median)).T\n",
    "\n",
    "#Dispersion - std, min, max, range, skew, kurtosis\n",
    "\n",
    "d1 = pd.DataFrame (num_attributes_sessions.apply (np.std)).T\n",
    "d2 = pd.DataFrame (num_attributes_sessions.apply (min)).T\n",
    "d3 = pd.DataFrame (num_attributes_sessions.apply (max)).T\n",
    "d4 = pd.DataFrame (num_attributes_sessions.apply (lambda x: x.max() - x.min())).T\n",
    "d5 = pd.DataFrame (num_attributes_sessions.apply (lambda x: x.skew())).T\n",
    "d6 = pd.DataFrame (num_attributes_sessions.apply (lambda x: x.kurtosis())).T\n",
    "\n",
    "# Concatenate\n",
    "\n",
    "t = pd.concat ((d2, d3, d4, ct1, ct2, d1, d5, d6)).T.reset_index()\n",
    "t.columns =['attributes', 'min', 'max', 'range', 'mean', 'median', 'std', 'skew', 'kurtosis']\n",
    "\n",
    "t"
   ]
  },
  {
   "cell_type": "markdown",
   "id": "b588baa6",
   "metadata": {},
   "source": [
    "### 1.7.3 Categorical -  Users"
   ]
  },
  {
   "cell_type": "code",
   "execution_count": 48,
   "id": "aafa32d1",
   "metadata": {
    "ExecuteTime": {
     "end_time": "2021-12-20T14:13:07.367046Z",
     "start_time": "2021-12-20T14:13:06.807454Z"
    }
   },
   "outputs": [
    {
     "data": {
      "text/html": [
       "<div>\n",
       "<style scoped>\n",
       "    .dataframe tbody tr th:only-of-type {\n",
       "        vertical-align: middle;\n",
       "    }\n",
       "\n",
       "    .dataframe tbody tr th {\n",
       "        vertical-align: top;\n",
       "    }\n",
       "\n",
       "    .dataframe thead th {\n",
       "        text-align: right;\n",
       "    }\n",
       "</style>\n",
       "<table border=\"1\" class=\"dataframe\">\n",
       "  <thead>\n",
       "    <tr style=\"text-align: right;\">\n",
       "      <th></th>\n",
       "      <th>gender</th>\n",
       "      <th>signup_method</th>\n",
       "      <th>language</th>\n",
       "      <th>affiliate_channel</th>\n",
       "      <th>affiliate_provider</th>\n",
       "      <th>first_affiliate_tracked</th>\n",
       "      <th>signup_app</th>\n",
       "      <th>first_device_type</th>\n",
       "      <th>first_browser</th>\n",
       "      <th>country_destination</th>\n",
       "    </tr>\n",
       "  </thead>\n",
       "  <tbody>\n",
       "    <tr>\n",
       "      <th>count</th>\n",
       "      <td>122636</td>\n",
       "      <td>122636</td>\n",
       "      <td>122636</td>\n",
       "      <td>122636</td>\n",
       "      <td>122636</td>\n",
       "      <td>122636</td>\n",
       "      <td>122636</td>\n",
       "      <td>122636</td>\n",
       "      <td>122636</td>\n",
       "      <td>122636</td>\n",
       "    </tr>\n",
       "    <tr>\n",
       "      <th>unique</th>\n",
       "      <td>4</td>\n",
       "      <td>3</td>\n",
       "      <td>25</td>\n",
       "      <td>8</td>\n",
       "      <td>17</td>\n",
       "      <td>7</td>\n",
       "      <td>4</td>\n",
       "      <td>9</td>\n",
       "      <td>41</td>\n",
       "      <td>12</td>\n",
       "    </tr>\n",
       "    <tr>\n",
       "      <th>top</th>\n",
       "      <td>FEMALE</td>\n",
       "      <td>basic</td>\n",
       "      <td>en</td>\n",
       "      <td>direct</td>\n",
       "      <td>direct</td>\n",
       "      <td>untracked</td>\n",
       "      <td>Web</td>\n",
       "      <td>Mac Desktop</td>\n",
       "      <td>Chrome</td>\n",
       "      <td>NDF</td>\n",
       "    </tr>\n",
       "    <tr>\n",
       "      <th>freq</th>\n",
       "      <td>56362</td>\n",
       "      <td>66039</td>\n",
       "      <td>118205</td>\n",
       "      <td>79093</td>\n",
       "      <td>78954</td>\n",
       "      <td>64712</td>\n",
       "      <td>108283</td>\n",
       "      <td>57943</td>\n",
       "      <td>41778</td>\n",
       "      <td>54852</td>\n",
       "    </tr>\n",
       "  </tbody>\n",
       "</table>\n",
       "</div>"
      ],
      "text/plain": [
       "        gender signup_method language affiliate_channel affiliate_provider first_affiliate_tracked signup_app first_device_type first_browser country_destination\n",
       "count   122636        122636   122636            122636             122636                  122636     122636            122636        122636              122636\n",
       "unique       4             3       25                 8                 17                       7          4                 9            41                  12\n",
       "top     FEMALE         basic       en            direct             direct               untracked        Web       Mac Desktop        Chrome                 NDF\n",
       "freq     56362         66039   118205             79093              78954                   64712     108283             57943         41778               54852"
      ]
     },
     "execution_count": 48,
     "metadata": {},
     "output_type": "execute_result"
    }
   ],
   "source": [
    "cat_attributes.drop('id', axis = 1).describe()"
   ]
  },
  {
   "cell_type": "markdown",
   "id": "243f7538",
   "metadata": {},
   "source": [
    "### 1.7.4 Categorical -  Sessions"
   ]
  },
  {
   "cell_type": "code",
   "execution_count": 49,
   "id": "06df20fb",
   "metadata": {
    "ExecuteTime": {
     "end_time": "2021-12-20T14:13:18.598538Z",
     "start_time": "2021-12-20T14:13:08.385871Z"
    }
   },
   "outputs": [
    {
     "data": {
      "text/html": [
       "<div>\n",
       "<style scoped>\n",
       "    .dataframe tbody tr th:only-of-type {\n",
       "        vertical-align: middle;\n",
       "    }\n",
       "\n",
       "    .dataframe tbody tr th {\n",
       "        vertical-align: top;\n",
       "    }\n",
       "\n",
       "    .dataframe thead th {\n",
       "        text-align: right;\n",
       "    }\n",
       "</style>\n",
       "<table border=\"1\" class=\"dataframe\">\n",
       "  <thead>\n",
       "    <tr style=\"text-align: right;\">\n",
       "      <th></th>\n",
       "      <th>action</th>\n",
       "      <th>action_type</th>\n",
       "      <th>action_detail</th>\n",
       "      <th>device_type</th>\n",
       "    </tr>\n",
       "  </thead>\n",
       "  <tbody>\n",
       "    <tr>\n",
       "      <th>count</th>\n",
       "      <td>9213930</td>\n",
       "      <td>9213930</td>\n",
       "      <td>9213930</td>\n",
       "      <td>9213930</td>\n",
       "    </tr>\n",
       "    <tr>\n",
       "      <th>unique</th>\n",
       "      <td>347</td>\n",
       "      <td>10</td>\n",
       "      <td>155</td>\n",
       "      <td>14</td>\n",
       "    </tr>\n",
       "    <tr>\n",
       "      <th>top</th>\n",
       "      <td>show</td>\n",
       "      <td>view</td>\n",
       "      <td>view_search_results</td>\n",
       "      <td>Mac Desktop</td>\n",
       "    </tr>\n",
       "    <tr>\n",
       "      <th>freq</th>\n",
       "      <td>2178382</td>\n",
       "      <td>3545621</td>\n",
       "      <td>1770931</td>\n",
       "      <td>3019523</td>\n",
       "    </tr>\n",
       "  </tbody>\n",
       "</table>\n",
       "</div>"
      ],
      "text/plain": [
       "         action action_type        action_detail  device_type\n",
       "count   9213930     9213930              9213930      9213930\n",
       "unique      347          10                  155           14\n",
       "top        show        view  view_search_results  Mac Desktop\n",
       "freq    2178382     3545621              1770931      3019523"
      ]
     },
     "execution_count": 49,
     "metadata": {},
     "output_type": "execute_result"
    }
   ],
   "source": [
    "cat_attributes_sessions.drop('user_id', axis = 1).describe()"
   ]
  },
  {
   "cell_type": "code",
   "execution_count": 50,
   "id": "0c0dd3c2",
   "metadata": {
    "ExecuteTime": {
     "end_time": "2021-12-20T14:14:35.014293Z",
     "start_time": "2021-12-20T14:13:18.601530Z"
    }
   },
   "outputs": [],
   "source": [
    "#list of attributes for Cramer's V correlation\n",
    "\n",
    "cat_attributes_list = cat_attributes_sessions.drop('user_id', axis = 1).columns.tolist()\n",
    "\n",
    "corr_dict = {}\n",
    "\n",
    "for i in range (len (cat_attributes_list)):\n",
    "    corr_list = []\n",
    "    for j in range (len (cat_attributes_list)):\n",
    "        ref = cat_attributes_list[i]\n",
    "        feat = cat_attributes_list[j]\n",
    "        \n",
    "        #correlation\n",
    "        corr = cramer_v(cat_attributes_sessions[ref], cat_attributes_sessions[feat])\n",
    "        \n",
    "        #append a list\n",
    "        corr_list.append (corr)\n",
    "    \n",
    "    #append a correlation list for each ref attributes\n",
    "    corr_dict[ref] = corr_list"
   ]
  },
  {
   "cell_type": "code",
   "execution_count": 51,
   "id": "7315a73c",
   "metadata": {
    "ExecuteTime": {
     "end_time": "2021-12-20T14:14:35.800703Z",
     "start_time": "2021-12-20T14:14:35.017333Z"
    }
   },
   "outputs": [
    {
     "data": {
      "text/plain": [
       "<AxesSubplot:>"
      ]
     },
     "execution_count": 51,
     "metadata": {},
     "output_type": "execute_result"
    },
    {
     "data": {
      "image/png": "[encoded data removed]",
      "text/plain": [
       "<Figure size 1296x720 with 2 Axes>"
      ]
     },
     "metadata": {},
     "output_type": "display_data"
    }
   ],
   "source": [
    "d = pd.DataFrame (corr_dict)\n",
    "d = d.set_index (d.columns)\n",
    "\n",
    "sns.heatmap (d, annot = True)"
   ]
  },
  {
   "cell_type": "markdown",
   "id": "7f3a02ea",
   "metadata": {},
   "source": [
    "# 2.0 Feature Engineering"
   ]
  },
  {
   "cell_type": "code",
   "execution_count": 52,
   "id": "ca6d5ca2",
   "metadata": {
    "ExecuteTime": {
     "end_time": "2021-12-20T14:14:35.832629Z",
     "start_time": "2021-12-20T14:14:35.808624Z"
    }
   },
   "outputs": [],
   "source": [
    "df2 = df1. copy()"
   ]
  },
  {
   "cell_type": "code",
   "execution_count": 53,
   "id": "e1fc8d62",
   "metadata": {
    "ExecuteTime": {
     "end_time": "2021-12-20T14:14:35.863478Z",
     "start_time": "2021-12-20T14:14:35.836551Z"
    },
    "scrolled": true
   },
   "outputs": [
    {
     "data": {
      "text/plain": [
       "id                                 object\n",
       "date_account_created       datetime64[ns]\n",
       "timestamp_first_active     datetime64[ns]\n",
       "date_first_booking         datetime64[ns]\n",
       "gender                             object\n",
       "age                                 int64\n",
       "signup_method                      object\n",
       "signup_flow                         int64\n",
       "language                           object\n",
       "affiliate_channel                  object\n",
       "affiliate_provider                 object\n",
       "first_affiliate_tracked            object\n",
       "signup_app                         object\n",
       "first_device_type                  object\n",
       "first_browser                      object\n",
       "country_destination                object\n",
       "dtype: object"
      ]
     },
     "execution_count": 53,
     "metadata": {},
     "output_type": "execute_result"
    }
   ],
   "source": [
    "df2.dtypes"
   ]
  },
  {
   "cell_type": "markdown",
   "id": "6173bdb5",
   "metadata": {},
   "source": [
    "## 2.1 Create New Features"
   ]
  },
  {
   "cell_type": "code",
   "execution_count": 54,
   "id": "1e6ebce1",
   "metadata": {
    "ExecuteTime": {
     "end_time": "2021-12-20T14:14:45.457001Z",
     "start_time": "2021-12-20T14:14:35.868465Z"
    }
   },
   "outputs": [],
   "source": [
    "#days from first active up to first booking\n",
    "df2['first_active'] = pd.to_datetime (df2['timestamp_first_active'].dt.strftime ('%Y%m%d'))\n",
    "df2['days_from_first_active_until_booking'] = (df2['date_first_booking']  - df2['first_active']).apply (lambda x: x.days)\n",
    "\n",
    "#days from first active up to account created\n",
    "df2['days_from_first_active_account_created'] = (df2['date_account_created']  - df2['first_active']).apply (lambda x: x.days)\n",
    "\n",
    "#days from account created up to first booking\n",
    "df2['days_from_account_created_first_booking'] = (df2['date_first_booking']  - df2['date_account_created']).apply (lambda x: x.days)\n",
    "\n",
    "\n",
    "#year of first active\n",
    "df2['year_first_active'] = df2['first_active'].dt.year\n",
    "\n",
    "#month of first active\n",
    "df2['month_first_active'] = df2['first_active'].dt.month\n",
    "\n",
    "#day of first active\n",
    "df2['day_first_active'] = df2['first_active'].dt.day\n",
    "\n",
    "#day of week active\n",
    "df2['day_of_week_first_active'] = df2['first_active'].dt.dayofweek\n",
    "\n",
    "#week of first active\n",
    "df2['week_first_active'] = df2['first_active'].dt.isocalendar().week\n",
    "\n",
    "\n",
    "\n",
    "#year of first booking\n",
    "df2['year_first_booking'] = df2['date_first_booking'].dt.year\n",
    "\n",
    "#month of first booking\n",
    "df2['month_first_booking'] = df2['date_first_booking'].dt.month\n",
    "\n",
    "#day of first booking\n",
    "df2['day_first_booking'] = df2['date_first_booking'].dt.day\n",
    "\n",
    "#day of week booking\n",
    "df2['day_of_week_first_booking'] = df2['date_first_booking'].dt.dayofweek\n",
    "\n",
    "#week of first booking\n",
    "df2['week_first_booking'] = df2['date_first_booking'].dt.isocalendar().week\n",
    "\n",
    "\n",
    "#year of first created\n",
    "df2['year_first_account_created'] = df2['date_account_created'].dt.year\n",
    "\n",
    "#month of first created\n",
    "df2['month_first_account_created'] = df2['date_account_created'].dt.month\n",
    "\n",
    "#day of first created\n",
    "df2['day_first_account_created'] = df2['date_account_created'].dt.day\n",
    "\n",
    "#day of week created\n",
    "df2['day_of_week_account_created'] = df2['date_account_created'].dt.dayofweek\n",
    "\n",
    "#week of first created\n",
    "df2['week_first_account_created'] = df2['date_account_created'].dt.isocalendar().week"
   ]
  },
  {
   "cell_type": "code",
   "execution_count": 55,
   "id": "10c8204b",
   "metadata": {
    "ExecuteTime": {
     "end_time": "2021-12-20T14:14:45.472224Z",
     "start_time": "2021-12-20T14:14:45.461039Z"
    }
   },
   "outputs": [
    {
     "data": {
      "text/plain": [
       "user_id           object\n",
       "action            object\n",
       "action_type       object\n",
       "action_detail     object\n",
       "device_type       object\n",
       "secs_elapsed     float64\n",
       "dtype: object"
      ]
     },
     "execution_count": 55,
     "metadata": {},
     "output_type": "execute_result"
    }
   ],
   "source": [
    "df_sessions.dtypes"
   ]
  },
  {
   "cell_type": "markdown",
   "id": "b6871fc5",
   "metadata": {},
   "source": [
    "# 3.0 Data Filtering"
   ]
  },
  {
   "cell_type": "code",
   "execution_count": 56,
   "id": "9827eec2",
   "metadata": {
    "ExecuteTime": {
     "end_time": "2021-12-20T14:14:45.548974Z",
     "start_time": "2021-12-20T14:14:45.476955Z"
    }
   },
   "outputs": [],
   "source": [
    "df3 = df2.copy()"
   ]
  },
  {
   "cell_type": "markdown",
   "id": "d2479d3b",
   "metadata": {},
   "source": [
    "### 3.1 Filtering Rows"
   ]
  },
  {
   "cell_type": "code",
   "execution_count": 57,
   "id": "b851fe76",
   "metadata": {
    "ExecuteTime": {
     "end_time": "2021-12-20T14:14:45.641315Z",
     "start_time": "2021-12-20T14:14:45.551976Z"
    }
   },
   "outputs": [],
   "source": [
    "#age\n",
    "\n",
    "df3 = df3[(df3['age'] > 15) & (df3['age'] < 120)]\n",
    "\n",
    "#secs_elapsed\n",
    "\n",
    "#df_sessions = df_sessions[df_sessions['secs_elapsed'] > 0]"
   ]
  },
  {
   "cell_type": "markdown",
   "id": "4f60aab0",
   "metadata": {},
   "source": [
    "### 3.2 Columns Selection"
   ]
  },
  {
   "cell_type": "code",
   "execution_count": 58,
   "id": "e4e7ecea",
   "metadata": {
    "ExecuteTime": {
     "end_time": "2021-12-20T14:14:45.656749Z",
     "start_time": "2021-12-20T14:14:45.649760Z"
    }
   },
   "outputs": [],
   "source": [
    "#cols = ['date_account_created', 'date_first_booking', 'first_active', 'timestamp_first_active']\n",
    "#df3 = df3.drop (cols, axis = 1)"
   ]
  },
  {
   "cell_type": "markdown",
   "id": "8df399c6",
   "metadata": {},
   "source": [
    "# 4.0 Balanced Dataset"
   ]
  },
  {
   "cell_type": "code",
   "execution_count": 59,
   "id": "d4bb2635",
   "metadata": {
    "ExecuteTime": {
     "end_time": "2021-12-20T14:14:45.702883Z",
     "start_time": "2021-12-20T14:14:45.661730Z"
    }
   },
   "outputs": [],
   "source": [
    "df4 =  df3.copy()"
   ]
  },
  {
   "cell_type": "code",
   "execution_count": 60,
   "id": "5c70a54f",
   "metadata": {
    "ExecuteTime": {
     "end_time": "2021-12-20T14:14:47.614821Z",
     "start_time": "2021-12-20T14:14:45.706887Z"
    }
   },
   "outputs": [],
   "source": [
    "#Enconder Categorical Variables\n",
    "ohe = pp.OneHotEncoder()\n",
    "\n",
    "#Numerical\n",
    "col_num = df4.select_dtypes ( include = ['int64', 'float64']).columns.tolist()\n",
    "\n",
    "#Categorical\n",
    "col_cat = df4.select_dtypes ( exclude = ['int64', 'float64', 'datetime64[ns]']).drop (['id', 'country_destination'], axis = 1).columns.tolist()\n",
    "\n",
    "#Encoding\n",
    "df4_dummy = pd.DataFrame (ohe.fit_transform (df4[col_cat]).toarray(), index = df4.index )\n",
    "\n",
    "#Join Numerical + Categorical\n",
    "df4_1 = pd.concat ([df4[col_num], df4_dummy], axis = 1)"
   ]
  },
  {
   "cell_type": "markdown",
   "id": "1ff24c62",
   "metadata": {},
   "source": [
    "### SMOTE + TOMEKLINK"
   ]
  },
  {
   "cell_type": "code",
   "execution_count": 61,
   "id": "050decd4",
   "metadata": {
    "ExecuteTime": {
     "end_time": "2021-12-20T17:22:31.929335Z",
     "start_time": "2021-12-20T14:14:47.625770Z"
    }
   },
   "outputs": [
    {
     "name": "stderr",
     "output_type": "stream",
     "text": [
      "C:\\Users\\marin\\.conda\\envs\\Projeto01\\lib\\site-packages\\sklearn\\utils\\validation.py:1675: FutureWarning: Feature names only support names that are all strings. Got feature names with dtypes: ['int', 'str']. An error will be raised in 1.2.\n",
      "  warnings.warn(\n"
     ]
    }
   ],
   "source": [
    "# Definir o sampler\n",
    "\n",
    "smt = SMOTETomek(random_state=32)\n",
    "\n",
    "# Fit - Training Data\n",
    "\n",
    "X_smt, y_smt = smt.fit_resample (df4_1, df4['country_destination'])"
   ]
  },
  {
   "cell_type": "code",
   "execution_count": 72,
   "id": "8a56ab69",
   "metadata": {
    "ExecuteTime": {
     "end_time": "2021-12-20T17:45:56.752813Z",
     "start_time": "2021-12-20T17:45:50.932443Z"
    }
   },
   "outputs": [],
   "source": [
    "#numerical data\n",
    "df4_2 = X_smt [col_num]\n",
    "\n",
    "#categorical data\n",
    "df4_3 = X_smt.drop (col_num, axis = 1)\n",
    "df4_4 = pd.DataFrame(ohe.inverse_transform (df4_3), columns = col_cat, index = df4_3.index)\n",
    "\n",
    "#join num + cat\n",
    "df4_5 = pd.concat ([df4_2, df4_4], axis = 1)\n",
    "df4_5['country_destination'] = y_smt"
   ]
  },
  {
   "cell_type": "code",
   "execution_count": 73,
   "id": "6a8a4fd0",
   "metadata": {
    "ExecuteTime": {
     "end_time": "2021-12-20T17:46:49.894960Z",
     "start_time": "2021-12-20T17:46:47.814460Z"
    }
   },
   "outputs": [],
   "source": [
    "df4_2 = df4_2.to_csv('df4_2')"
   ]
  },
  {
   "cell_type": "code",
   "execution_count": 74,
   "id": "2066e76a",
   "metadata": {
    "ExecuteTime": {
     "end_time": "2021-12-20T17:48:36.623100Z",
     "start_time": "2021-12-20T17:46:49.897721Z"
    }
   },
   "outputs": [],
   "source": [
    "df4_3 = df4_3.to_csv('df4_3')"
   ]
  },
  {
   "cell_type": "code",
   "execution_count": 75,
   "id": "16a8b4d0",
   "metadata": {
    "ExecuteTime": {
     "end_time": "2021-12-20T17:48:38.884597Z",
     "start_time": "2021-12-20T17:48:36.629037Z"
    }
   },
   "outputs": [],
   "source": [
    "df4_4 = df4_4.to_csv('df4_4')"
   ]
  },
  {
   "cell_type": "code",
   "execution_count": 76,
   "id": "9f492b6c",
   "metadata": {
    "ExecuteTime": {
     "end_time": "2021-12-20T17:48:45.032230Z",
     "start_time": "2021-12-20T17:48:38.887349Z"
    }
   },
   "outputs": [],
   "source": [
    "df4_5 = df4_5.to_csv('df4_5')"
   ]
  },
  {
   "cell_type": "markdown",
   "id": "126cc007",
   "metadata": {},
   "source": [
    "# 5.0 Exploratory Data Analysis (EDA)"
   ]
  },
  {
   "cell_type": "markdown",
   "id": "0b3bc856",
   "metadata": {},
   "source": [
    "## 5.1 Univariate Analysis - Feature Behaviour (Balanced Dataset)"
   ]
  },
  {
   "cell_type": "code",
   "execution_count": 77,
   "id": "24d7bb47",
   "metadata": {
    "ExecuteTime": {
     "end_time": "2021-12-20T17:50:12.895826Z",
     "start_time": "2021-12-20T17:50:11.851916Z"
    }
   },
   "outputs": [
    {
     "ename": "AttributeError",
     "evalue": "'NoneType' object has no attribute 'copy'",
     "output_type": "error",
     "traceback": [
      "\u001b[1;31m---------------------------------------------------------------------------\u001b[0m",
      "\u001b[1;31mAttributeError\u001b[0m                            Traceback (most recent call last)",
      "\u001b[1;32m~\\AppData\\Local\\Temp/ipykernel_6936/2196409653.py\u001b[0m in \u001b[0;36m<module>\u001b[1;34m\u001b[0m\n\u001b[1;32m----> 1\u001b[1;33m \u001b[0mdf5_1\u001b[0m \u001b[1;33m=\u001b[0m \u001b[0mdf4_5\u001b[0m\u001b[1;33m.\u001b[0m\u001b[0mcopy\u001b[0m\u001b[1;33m(\u001b[0m\u001b[1;33m)\u001b[0m\u001b[1;33m\u001b[0m\u001b[1;33m\u001b[0m\u001b[0m\n\u001b[0m",
      "\u001b[1;31mAttributeError\u001b[0m: 'NoneType' object has no attribute 'copy'"
     ]
    }
   ],
   "source": [
    "df5_1 = df4_5.copy()"
   ]
  },
  {
   "cell_type": "code",
   "execution_count": 78,
   "id": "da1c9c21",
   "metadata": {
    "ExecuteTime": {
     "end_time": "2021-12-20T17:53:51.118369Z",
     "start_time": "2021-12-20T17:50:16.718128Z"
    }
   },
   "outputs": [
    {
     "data": {
      "application/vnd.jupyter.widget-view+json": {
       "model_id": "0fc3c85ca9c84c12b6bd847353af6d53",
       "version_major": 2,
       "version_minor": 0
      },
      "text/plain": [
       "Summarize dataset:   0%|          | 0/5 [00:00<?, ?it/s]"
      ]
     },
     "metadata": {},
     "output_type": "display_data"
    },
    {
     "name": "stderr",
     "output_type": "stream",
     "text": [
      "C:\\Users\\marin\\.conda\\envs\\Projeto01\\lib\\site-packages\\scipy\\stats\\stats.py:4812: RuntimeWarning: overflow encountered in longlong_scalars\n",
      "  (2 * xtie * ytie) / m + x0 * y0 / (9 * m * (size - 2)))\n"
     ]
    },
    {
     "data": {
      "application/vnd.jupyter.widget-view+json": {
       "model_id": "314753c88e8849338b80b7e5fd0abe27",
       "version_major": 2,
       "version_minor": 0
      },
      "text/plain": [
       "Generate report structure:   0%|          | 0/1 [00:00<?, ?it/s]"
      ]
     },
     "metadata": {},
     "output_type": "display_data"
    },
    {
     "data": {
      "application/vnd.jupyter.widget-view+json": {
       "model_id": "92189f4827c54cbd85f785cf369d1e7f",
       "version_major": 2,
       "version_minor": 0
      },
      "text/plain": [
       "Render HTML:   0%|          | 0/1 [00:00<?, ?it/s]"
      ]
     },
     "metadata": {},
     "output_type": "display_data"
    },
    {
     "data": {
      "application/vnd.jupyter.widget-view+json": {
       "model_id": "9ddd2957cd2e471a837a7b23ddc530ca",
       "version_major": 2,
       "version_minor": 0
      },
      "text/plain": [
       "Export report to file:   0%|          | 0/1 [00:00<?, ?it/s]"
      ]
     },
     "metadata": {},
     "output_type": "display_data"
    }
   ],
   "source": [
    "def test_profile():\n",
    "\n",
    "    proof = pandas_profiling.ProfileReport(df5_1)\n",
    "    proof.to_file(\"output.html\")\n",
    "\n",
    "if __name__ == '__main__':\n",
    "    multiprocessing.freeze_support()\n",
    "    test_profile()"
   ]
  },
  {
   "cell_type": "markdown",
   "id": "097e021d",
   "metadata": {},
   "source": [
    "## 5.2 Bivariate Analysis - Hypothesys Validation (Unbalanced Dataset)"
   ]
  },
  {
   "cell_type": "markdown",
   "id": "6dcdcfdd",
   "metadata": {},
   "source": [
    "### H1. Em todos os destinos, os usuários levam 15 dias, em média, para fazer a primeira reserva no Airbnb, desde sua primeira ativação."
   ]
  },
  {
   "cell_type": "code",
   "execution_count": 65,
   "id": "85ee6943",
   "metadata": {
    "ExecuteTime": {
     "end_time": "2021-12-20T17:27:59.222651Z",
     "start_time": "2021-12-20T17:27:58.766642Z"
    }
   },
   "outputs": [
    {
     "data": {
      "text/plain": [
       "<AxesSubplot:xlabel='country_destination', ylabel='days_from_first_active_until_booking'>"
      ]
     },
     "execution_count": 65,
     "metadata": {},
     "output_type": "execute_result"
    },
    {
     "data": {
      "image/png": "[encoded data removed]",
      "text/plain": [
       "<Figure size 1296x720 with 2 Axes>"
      ]
     },
     "metadata": {},
     "output_type": "display_data"
    }
   ],
   "source": [
    "plt.subplot (2,1,1)\n",
    "aux01 = df4[['days_from_first_active_until_booking', 'country_destination']].groupby('country_destination').median().reset_index()\n",
    "sns.barplot (x = 'country_destination', y = 'days_from_first_active_until_booking', data = aux01.sort_values('days_from_first_active_until_booking'))\n",
    "\n",
    "\n",
    "plt.subplot (2,1,2)\n",
    "aux02 = df4[df4['country_destination'] != 'NDF']\n",
    "aux02 = aux02[['days_from_first_active_until_booking', 'country_destination']].groupby('country_destination').median().reset_index()\n",
    "sns.barplot (x = 'country_destination', y = 'days_from_first_active_until_booking', data = aux02.sort_values ('days_from_first_active_until_booking'))\n",
    "\n",
    "\n",
    "#plt.subplot (3,1,3)\n",
    "#aux03 = df4[(df4['days_from_first_active_until_booking'] < 50) & (df4['country_destination'] == 'US')]['days_from_first_active_until_booking']\n",
    "#sns.distplot (aux03)"
   ]
  },
  {
   "cell_type": "markdown",
   "id": "9657dbf6",
   "metadata": {},
   "source": [
    "### H2. Em todos os destinos, os usuários levam 3 dias, em média, para fazer o cadastro no site."
   ]
  },
  {
   "cell_type": "code",
   "execution_count": 66,
   "id": "fd8f0a0c",
   "metadata": {
    "ExecuteTime": {
     "end_time": "2021-12-20T17:27:59.429503Z",
     "start_time": "2021-12-20T17:27:59.224594Z"
    },
    "scrolled": true
   },
   "outputs": [
    {
     "data": {
      "text/plain": [
       "<AxesSubplot:xlabel='country_destination', ylabel='days_from_first_active_account_created'>"
      ]
     },
     "execution_count": 66,
     "metadata": {},
     "output_type": "execute_result"
    },
    {
     "data": {
      "image/png": "[encoded data removed]",
      "text/plain": [
       "<Figure size 1296x720 with 1 Axes>"
      ]
     },
     "metadata": {},
     "output_type": "display_data"
    }
   ],
   "source": [
    "aux02 = df4[df4['days_from_first_active_account_created'] != 0]\n",
    "aux02 = aux02[['days_from_first_active_account_created', 'country_destination']].groupby('country_destination').median().reset_index()\n",
    "sns.barplot (x = 'country_destination', y = 'days_from_first_active_account_created', data = aux02.sort_values ('days_from_first_active_account_created'))"
   ]
  },
  {
   "cell_type": "code",
   "execution_count": 67,
   "id": "626d1f1d",
   "metadata": {
    "ExecuteTime": {
     "end_time": "2021-12-20T17:27:59.444465Z",
     "start_time": "2021-12-20T17:27:59.431500Z"
    }
   },
   "outputs": [
    {
     "data": {
      "text/plain": [
       "0    122482\n",
       "Name: days_from_first_active_account_created, dtype: int64"
      ]
     },
     "execution_count": 67,
     "metadata": {},
     "output_type": "execute_result"
    }
   ],
   "source": [
    "df4.loc[df4['days_from_first_active_account_created'] == 0, 'days_from_first_active_account_created'].value_counts()"
   ]
  },
  {
   "cell_type": "markdown",
   "id": "b85df2c2",
   "metadata": {},
   "source": [
    "### H3. O volume de reservas anual feitas durante o verão aumentaram 20% para destinos dentro dos USA."
   ]
  },
  {
   "cell_type": "code",
   "execution_count": 68,
   "id": "24b9f0ec",
   "metadata": {
    "ExecuteTime": {
     "end_time": "2021-12-20T17:27:59.631402Z",
     "start_time": "2021-12-20T17:27:59.446896Z"
    }
   },
   "outputs": [
    {
     "data": {
      "text/plain": [
       "<AxesSubplot:xlabel='year_first_booking', ylabel='delta'>"
      ]
     },
     "execution_count": 68,
     "metadata": {},
     "output_type": "execute_result"
    },
    {
     "data": {
      "image/png": "[encoded data removed]",
      "text/plain": [
       "<Figure size 1296x720 with 1 Axes>"
      ]
     },
     "metadata": {},
     "output_type": "display_data"
    }
   ],
   "source": [
    "aux01 = df4[['year_first_booking', 'month_first_booking', 'country_destination']].\\\n",
    "groupby(['year_first_booking','month_first_booking','country_destination']).size().reset_index().rename (columns = {0:'count'})\n",
    "\n",
    "#Only Summer\n",
    "aux01 = aux01[(aux01['month_first_booking'].isin([6, 7, 8, 9])) & (aux01['country_destination'] == 'US')]\n",
    "\n",
    "aux02 = aux01[['year_first_booking', 'count']].groupby ('year_first_booking').sum().reset_index()\n",
    "\n",
    "#diferença entre colunas\n",
    "aux02['delta'] = 100*aux02['count'].pct_change().fillna(0)\n",
    "\n",
    "sns.barplot (x = 'year_first_booking', y = 'delta', data = aux02)"
   ]
  },
  {
   "cell_type": "markdown",
   "id": "70b8ca77",
   "metadata": {},
   "source": [
    "### H4. Usuários do sexo feminino fazem 10% mais reservas para países foram dos USA."
   ]
  },
  {
   "cell_type": "markdown",
   "id": "4021f7b1",
   "metadata": {},
   "source": [
    "### H5. O canal de Marketing Google representa 40% das reservas para países fora dos USA."
   ]
  },
  {
   "cell_type": "markdown",
   "id": "6b2e45c6",
   "metadata": {},
   "source": [
    "### H6. O destino dos USA representam mais de 20% em todos os canais."
   ]
  },
  {
   "cell_type": "markdown",
   "id": "c8fb28af",
   "metadata": {},
   "source": [
    "### H7. A idade média das pessoas é de 35 anos em todos os destinos."
   ]
  },
  {
   "cell_type": "markdown",
   "id": "88fcb010",
   "metadata": {},
   "source": [
    "### H8. A porcentagem de usuários que usam o site na língua inglês-americano para reservar acomodações em qualquer destino é maior que 90%."
   ]
  },
  {
   "cell_type": "markdown",
   "id": "95246f02",
   "metadata": {},
   "source": [
    "### H9. O número de reservas do Airbnb é crecente ao longo dos anos."
   ]
  },
  {
   "cell_type": "markdown",
   "id": "8e52b7f9",
   "metadata": {},
   "source": [
    "# 5.2.3 Multivariate Analysis"
   ]
  },
  {
   "cell_type": "code",
   "execution_count": null,
   "id": "aa00dde8",
   "metadata": {
    "ExecuteTime": {
     "end_time": "2021-12-16T13:41:02.663307Z",
     "start_time": "2021-12-16T13:41:02.663307Z"
    }
   },
   "outputs": [],
   "source": [
    "#Remove - High Correlation\n",
    "\n",
    "cols = ['days_from_first_active_until_booking', 'year_first_active','month_first_active', 'day_first_active', 'day_of_week_first_active', 'week_first_active', 'month_first_booking', 'month_first_account_created','year_first_booking', 'week_first_booking', 'affiliate_provider', 'first_browser', 'first_device_type', 'language']"
   ]
  },
  {
   "cell_type": "markdown",
   "id": "0a772c89",
   "metadata": {},
   "source": [
    "# 6.0 Data Preparation"
   ]
  },
  {
   "cell_type": "code",
   "execution_count": null,
   "id": "b3125c50",
   "metadata": {
    "ExecuteTime": {
     "end_time": "2021-12-16T13:41:02.665302Z",
     "start_time": "2021-12-16T13:41:02.665302Z"
    }
   },
   "outputs": [],
   "source": [
    "df6 = df5_1.drop(cols, axis =1)"
   ]
  },
  {
   "cell_type": "code",
   "execution_count": null,
   "id": "e0138db2",
   "metadata": {
    "ExecuteTime": {
     "end_time": "2021-12-16T13:41:02.666299Z",
     "start_time": "2021-12-16T13:41:02.666299Z"
    }
   },
   "outputs": [],
   "source": [
    "df6.dtypes"
   ]
  },
  {
   "cell_type": "markdown",
   "id": "16dfaae1",
   "metadata": {},
   "source": [
    "## 6.1 Rescaling"
   ]
  },
  {
   "cell_type": "code",
   "execution_count": null,
   "id": "44e04e7c",
   "metadata": {
    "ExecuteTime": {
     "end_time": "2021-12-16T13:41:02.668378Z",
     "start_time": "2021-12-16T13:41:02.668378Z"
    },
    "scrolled": false
   },
   "outputs": [],
   "source": [
    "ss = pp.StandardScaler()\n",
    "rs = pp.RobustScaler()\n",
    "mms = pp.MinMaxScaler()"
   ]
  },
  {
   "cell_type": "code",
   "execution_count": null,
   "id": "ced0bdd4",
   "metadata": {
    "ExecuteTime": {
     "end_time": "2021-12-16T13:41:02.670372Z",
     "start_time": "2021-12-16T13:41:02.670372Z"
    }
   },
   "outputs": [],
   "source": [
    "#age  - Standard\n",
    "df6['age'] = ss.fit_transform (df6[['age']].values)\n",
    "\n",
    "#signup_flow  - Robust\n",
    "df6['signup_flow'] = rs.fit_transform (df6[['signup_flow']].values)\n",
    "\n",
    "#days_from_first_active_account_created - Robust\n",
    "df6['days_from_first_active_account_created'] = rs.fit_transform (df6[['days_from_first_active_account_created']].values)\n",
    "\n",
    "#days_from_account_created_first_booking - Robust\n",
    "df6['days_from_account_created_first_booking'] = rs.fit_transform (df6[['days_from_account_created_first_booking']].values)\n",
    "\n",
    "#year_first_account_created - MinMax\n",
    "df6['year_first_account_created'] = mms.fit_transform (df6[['year_first_account_created']].values)"
   ]
  },
  {
   "cell_type": "markdown",
   "id": "95c9794b",
   "metadata": {},
   "source": [
    "## 6.2 Encoding"
   ]
  },
  {
   "cell_type": "code",
   "execution_count": null,
   "id": "6e813fe6",
   "metadata": {
    "ExecuteTime": {
     "end_time": "2021-12-16T13:41:02.671370Z",
     "start_time": "2021-12-16T13:41:02.671370Z"
    }
   },
   "outputs": [],
   "source": [
    "te = TargetEncoder()"
   ]
  },
  {
   "cell_type": "code",
   "execution_count": null,
   "id": "7cea7a23",
   "metadata": {
    "ExecuteTime": {
     "end_time": "2021-12-16T13:41:02.673364Z",
     "start_time": "2021-12-16T13:41:02.673364Z"
    }
   },
   "outputs": [],
   "source": [
    "#gender\n",
    "df6 = pd.get_dummies(df6, prefix = ['gender'], columns = ['gender'])\n",
    "\n",
    "#signup_method\n",
    "df6 = pd.get_dummies(df6, prefix = ['signup_method'], columns = ['signup_method'])\n",
    "\n",
    "#signup_app   \n",
    "df6 = pd.get_dummies(df6, prefix = ['signup_app'], columns = ['signup_app'])\n",
    "\n",
    "#affiliate_channel\n",
    "c = {'NDF':0, 'US':1, 'other':2, 'CA':3, 'FR':4, 'IT':5, 'ES':6, 'GB':7, 'NL':8, 'DE':9, 'AU':10, 'PT':11}\n",
    "df6['affiliate_channel'] = te.fit_transform(df6[['affiliate_channel']].values, df6['country_destination'].map(c))\n",
    "        \n",
    "#first_affiliate_tracked\n",
    "df6['first_affiliate_tracked'] = te.fit_transform(df6[['first_affiliate_tracked']].values, df6['country_destination'].map(c))"
   ]
  },
  {
   "cell_type": "markdown",
   "id": "4fa363d7",
   "metadata": {},
   "source": [
    "## 6.3 Transformation"
   ]
  },
  {
   "cell_type": "code",
   "execution_count": null,
   "id": "44bb4109",
   "metadata": {
    "ExecuteTime": {
     "end_time": "2021-12-16T13:41:02.675359Z",
     "start_time": "2021-12-16T13:41:02.675359Z"
    }
   },
   "outputs": [],
   "source": [
    "#week_first_account_created\n",
    "df6['week_first_account_created_sin'] = df6['week_first_account_created'].apply(lambda x: np.sin (x*(2*np.pi/52)))\n",
    "df6['week_first_account_created_cos'] = df6['week_first_account_created'].apply(lambda x: np.cos (x*(2*np.pi/52)))\n",
    "\n",
    "#day_of_week_first_booking\n",
    "df6['day_of_week_first_booking_sin'] = df6['week_first_account_created'].apply(lambda x: np.sin (x*(2*np.pi/7)))\n",
    "df6['day_of_week_first_booking_cos'] = df6['week_first_account_created'].apply(lambda x: np.cos (x*(2*np.pi/7)))\n",
    "\n",
    "#day_first_account_created \n",
    "df6['day_first_account_created_sin'] = df6['week_first_account_created'].apply(lambda x: np.sin (x*(2*np.pi/31)))\n",
    "df6['day_first_account_created_cos'] = df6['week_first_account_created'].apply(lambda x: np.cos (x*(2*np.pi/31)))\n",
    "\n",
    "#day_of_week_account_created\n",
    "df6['day_of_week_account_created_sin'] = df6['week_first_account_created'].apply(lambda x: np.sin (x*(2*np.pi/7)))\n",
    "df6['day_of_week_account_created_cos'] = df6['week_first_account_created'].apply(lambda x: np.cos (x*(2*np.pi/7)))\n",
    "\n",
    "#day_first_booking\n",
    "df6['day_first_booking_sin'] = df6['week_first_account_created'].apply(lambda x: np.sin (x*(2*np.pi/31)))\n",
    "df6['day_first_booking_cos'] = df6['week_first_account_created'].apply(lambda x: np.cos (x*(2*np.pi/31)))"
   ]
  },
  {
   "cell_type": "markdown",
   "id": "16b400c1",
   "metadata": {},
   "source": [
    "# 7.0 Feature Selection"
   ]
  },
  {
   "cell_type": "code",
   "execution_count": null,
   "id": "dd1ed6fe",
   "metadata": {
    "ExecuteTime": {
     "end_time": "2021-12-16T13:41:02.676356Z",
     "start_time": "2021-12-16T13:41:02.676356Z"
    }
   },
   "outputs": [],
   "source": [
    "df7 = df6.copy()"
   ]
  },
  {
   "cell_type": "code",
   "execution_count": null,
   "id": "45a58c8b",
   "metadata": {
    "ExecuteTime": {
     "end_time": "2021-12-16T13:41:02.678714Z",
     "start_time": "2021-12-16T13:41:02.678714Z"
    }
   },
   "outputs": [],
   "source": [
    "X = df7.drop ('country_destination', axis = 1)\n",
    "y = df7['country_destination'].copy()"
   ]
  },
  {
   "cell_type": "code",
   "execution_count": null,
   "id": "b9fe4832",
   "metadata": {
    "ExecuteTime": {
     "end_time": "2021-12-16T13:41:02.679710Z",
     "start_time": "2021-12-16T13:41:02.679710Z"
    }
   },
   "outputs": [],
   "source": [
    "#Split DataSet into Training and Test\n",
    "\n",
    "x_train,x_test, y_train, y_test = ms.train_test_split(X, y, test_size = 0.2, random_state = 32)"
   ]
  },
  {
   "cell_type": "markdown",
   "id": "27cd8252",
   "metadata": {},
   "source": [
    "# 8.0 Machine Learning Model - Neural Network MLP (Validação)"
   ]
  },
  {
   "cell_type": "markdown",
   "id": "4865f9f3",
   "metadata": {},
   "source": [
    "## 8.1 Baseline Model"
   ]
  },
  {
   "cell_type": "code",
   "execution_count": null,
   "id": "a45688a4",
   "metadata": {
    "ExecuteTime": {
     "end_time": "2021-12-16T13:41:02.681703Z",
     "start_time": "2021-12-16T13:41:02.681703Z"
    }
   },
   "outputs": [],
   "source": [
    "country_destination_list = df7['country_destination'].drop_duplicates().sort_values().tolist()\n",
    "k_num = y_test.shape[0]\n",
    "country_destination_weights = df7['country_destination'].value_counts(normalize = True).sort_index().tolist()\n",
    "\n",
    "#Modelo Entrega Valor Aleatório\n",
    "yhat_random = random.choices (population = country_destination_list, \n",
    "                              k = k_num,\n",
    "                              weights = country_destination_weights )"
   ]
  },
  {
   "cell_type": "code",
   "execution_count": null,
   "id": "c4b5890c",
   "metadata": {
    "ExecuteTime": {
     "end_time": "2021-12-16T13:41:02.684695Z",
     "start_time": "2021-12-16T13:41:02.684695Z"
    }
   },
   "outputs": [],
   "source": [
    "# Accuracy \n",
    "acc_random = m.accuracy_score (y_test, yhat_random)\n",
    "print( 'Accuracy: {}'.format (acc_random))\n",
    "\n",
    "#Balanced Accuracy\n",
    "\n",
    "balanced_acc_random = m.balanced_accuracy_score (y_test, yhat_random)\n",
    "print ('Balanced Accuracy:{}'.format (balanced_acc_random))\n",
    "\n",
    "#Kappa Metrics\n",
    "kappa_random = m.cohen_kappa_score(y_test, yhat_random)\n",
    "print ('Kappa Score: {}'.format (kappa_random))\n",
    "\n",
    "#classification report\n",
    "print (m.classification_report (y_test, yhat_random))\n",
    "\n",
    "#Confusion Matrix\n",
    "mt.plot_confusion_matrix (y_test, yhat_random, normalize = False, figsize = (12,12))"
   ]
  },
  {
   "cell_type": "markdown",
   "id": "97728b81",
   "metadata": {},
   "source": [
    "## 8.2 Neural Network - MLP"
   ]
  },
  {
   "cell_type": "code",
   "execution_count": null,
   "id": "218e1330",
   "metadata": {
    "ExecuteTime": {
     "end_time": "2021-12-16T13:41:02.685693Z",
     "start_time": "2021-12-16T13:41:02.685693Z"
    }
   },
   "outputs": [],
   "source": [
    "ohe = pp.OneHotEncoder ()\n",
    "y_train_nn = ohe.fit_transform (y_train.values.reshape (-1,1)).toarray()"
   ]
  },
  {
   "cell_type": "code",
   "execution_count": null,
   "id": "af6adf19",
   "metadata": {
    "ExecuteTime": {
     "end_time": "2021-12-16T13:41:02.687687Z",
     "start_time": "2021-12-16T13:41:02.687687Z"
    },
    "scrolled": false
   },
   "outputs": [],
   "source": [
    "#model definition\n",
    "model = ml.Sequential()\n",
    "model.add (l.Dense(64, input_dim = x_train.shape[1], activation = 'relu'))\n",
    "model.add (l.Dense(12, activation = 'softmax'))\n",
    "\n",
    "#model compile\n",
    "model.compile ( loss = 'categorical_crossentropy', optimizer = 'adam', metrics = ['accuracy'])\n",
    "\n",
    "#train model\n",
    "model.fit (x_train, y_train_nn, epochs = 100)"
   ]
  },
  {
   "cell_type": "markdown",
   "id": "11feb1ce",
   "metadata": {},
   "source": [
    "### 7.2.1 Neural Network - Performance"
   ]
  },
  {
   "cell_type": "code",
   "execution_count": null,
   "id": "0f969d33",
   "metadata": {
    "ExecuteTime": {
     "end_time": "2021-12-16T13:41:02.689684Z",
     "start_time": "2021-12-16T13:41:02.689684Z"
    }
   },
   "outputs": [],
   "source": [
    "#predicition\n",
    "pred_nn = model.predict (x_test)\n",
    "\n",
    "#invert prediction\n",
    "yhat_nn = ohe.inverse_transform (pred_nn)\n",
    "\n",
    "#prediction prepare\n",
    "y_test_nn = y_test.to_numpy()\n",
    "yhat_nn = yhat_nn.reshape (1, -1)[0]"
   ]
  },
  {
   "cell_type": "code",
   "execution_count": null,
   "id": "1fb669d2",
   "metadata": {
    "ExecuteTime": {
     "end_time": "2021-12-16T13:41:02.691677Z",
     "start_time": "2021-12-16T13:41:02.691677Z"
    }
   },
   "outputs": [],
   "source": [
    "# Accuracy \n",
    "acc_nn = m.accuracy_score (y_test_nn, yhat_nn)\n",
    "print( 'Accuracy: {}'.format (acc_nn))\n",
    "\n",
    "#Balanced Accuracy\n",
    "\n",
    "balanced_acc_nn = m.balanced_accuracy_score (y_test_nn, yhat_nn)\n",
    "print ('Balanced Accuracy:{}'.format (balanced_acc_nn))\n",
    "\n",
    "#Kappa Metrics\n",
    "kappa_nn = m.cohen_kappa_score(y_test_nn, yhat_nn)\n",
    "print ('Kappa Score: {}'.format (kappa_nn))\n",
    "\n",
    "#classification report\n",
    "print (m.classification_report (y_test_nn, yhat_nn))\n",
    "\n",
    "#Confusion Matrix\n",
    "mt.plot_confusion_matrix (y_test_nn, yhat_nn, normalize = False, figsize = (12,12))"
   ]
  },
  {
   "cell_type": "markdown",
   "id": "3c8eb0f3",
   "metadata": {},
   "source": [
    "## 5.2 Neural Network - CV"
   ]
  },
  {
   "cell_type": "code",
   "execution_count": null,
   "id": "3c65578f",
   "metadata": {
    "ExecuteTime": {
     "end_time": "2021-12-16T13:41:02.693672Z",
     "start_time": "2021-12-16T13:41:02.693672Z"
    }
   },
   "outputs": [],
   "source": [
    "#generate k-fold\n",
    "\n",
    "num_folds = 5\n",
    "kfold = ms.StratifiedKFold (n_splits = num_folds, shuffle = True, random_state = 32)\n",
    "\n",
    "balanced_acc_list = []\n",
    "kappa_acc_list = []\n",
    "\n",
    "for train_ix, val_ix in kfols.split (x_train, y_train):\n",
    "    \n",
    "    #get fold\n",
    "    x_train.iloc[train_ix]\n",
    "    \n",
    "    #model definition\n",
    "    model = ml.Sequential()\n",
    "    model.add (l.Dense(256, input_dim = x_train.shape[1], activation = 'relu'))\n",
    "    model.add (l.Dense(11, activation = 'softmax'))\n",
    "\n",
    "    #model compile\n",
    "    model.compile ( loss = 'categorical_crossentropy', optimizer = 'adam', metrics = ['accuracy'])\n",
    "    \n",
    "    \n",
    "    #train model\n",
    "    model.fit (x_train, y_train_nn, epochs = 100, batch_size = 32, verbose = 0)"
   ]
  }
 ],
 "metadata": {
  "kernelspec": {
   "display_name": "Python 3 (ipykernel)",
   "language": "python",
   "name": "python3"
  },
  "language_info": {
   "codemirror_mode": {
    "name": "ipython",
    "version": 3
   },
   "file_extension": ".py",
   "mimetype": "text/x-python",
   "name": "python",
   "nbconvert_exporter": "python",
   "pygments_lexer": "ipython3",
   "version": "3.9.7"
  }
 },
 "nbformat": 4,
 "nbformat_minor": 5
}
