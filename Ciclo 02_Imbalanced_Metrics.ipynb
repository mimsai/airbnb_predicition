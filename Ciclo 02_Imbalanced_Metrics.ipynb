{
 "cells": [
  {
   "cell_type": "markdown",
   "id": "17269343",
   "metadata": {},
   "source": [
    "# <center> Entender o Problema"
   ]
  },
  {
   "cell_type": "markdown",
   "id": "11cf7964",
   "metadata": {},
   "source": [
    "-- Objetivo do Problema:\n",
    "    -- 1.0 Previsão do primeiro destino que um novo usuário irá escolher.\n",
    "    \n",
    "    -- Por que?\n",
    "        -- Qual tipo de modelo de negócio do Airbnb?\n",
    "        --(MarketPlace - Conecta Pessoas que Oferecem Acomodaões que estão procurando Acomodação)\n",
    "            -- Tamanho do Portfólio\n",
    "            -- Diversidade/Densidade de Portfólio\n",
    "            -- Preço Médio\n",
    "        -- Demanda (Procura de Acomodações)\n",
    "            -- Número de Usuários\n",
    "            -- LTV (Lifetime Value)\n",
    "            -- CAC (Client Acquisition Cost - Propaganda Instagram/Youtube)\n",
    "            \n",
    "        --  Revenue ( O que o AirBnb quer )\n",
    "            Gross Revenue = Fee*Número Cliente - CAC (Margens de Contribuição)\n",
    "            \n",
    "            \n",
    "-- Proposta da Solução\n",
    "    -- Modelo de Previsão do primeiro destino de um novo usário\n",
    "    -- 1.0 Predições e salva em Tabela do Banco de Dados.\n",
    "    -- 2.0 API:\n",
    "        \n",
    "        --- Input: Usuário e sua Características\n",
    "        --- Output: Usuário e suas características com a **predição do destino**\n",
    "            \n",
    "\n",
    "***MultiClasse e Desbalanceado"
   ]
  },
  {
   "cell_type": "markdown",
   "id": "87dfb1ba",
   "metadata": {},
   "source": [
    "# 0.0 Imports"
   ]
  },
  {
   "cell_type": "code",
   "execution_count": 1,
   "id": "63840722",
   "metadata": {
    "ExecuteTime": {
     "end_time": "2021-12-12T13:34:21.477749Z",
     "start_time": "2021-12-12T13:34:02.441894Z"
    }
   },
   "outputs": [],
   "source": [
    "import random\n",
    "import pandas as pd\n",
    "\n",
    "from keras      import models          as ml\n",
    "from keras      import layers          as l\n",
    "from sklearn    import model_selection as ms\n",
    "from sklearn    import preprocessing   as pp\n",
    "from sklearn    import metrics         as m\n",
    "from scikitplot import metrics         as mt"
   ]
  },
  {
   "cell_type": "markdown",
   "id": "d79c85ee",
   "metadata": {
    "heading_collapsed": true
   },
   "source": [
    "## 0.1 Helper Funtions"
   ]
  },
  {
   "cell_type": "markdown",
   "id": "f671b54f",
   "metadata": {
    "heading_collapsed": true
   },
   "source": [
    "## 0.2 Loanding Data"
   ]
  },
  {
   "cell_type": "code",
   "execution_count": 2,
   "id": "81ec7385",
   "metadata": {
    "ExecuteTime": {
     "end_time": "2021-12-12T13:34:22.464479Z",
     "start_time": "2021-12-12T13:34:21.477749Z"
    },
    "hidden": true
   },
   "outputs": [
    {
     "data": {
      "text/plain": [
       "(213451, 16)"
      ]
     },
     "execution_count": 2,
     "metadata": {},
     "output_type": "execute_result"
    }
   ],
   "source": [
    "df_raw = pd.read_csv ('training_users.csv', low_memory = True)\n",
    "df_raw.shape"
   ]
  },
  {
   "cell_type": "code",
   "execution_count": 3,
   "id": "4ed2adc1",
   "metadata": {
    "ExecuteTime": {
     "end_time": "2021-12-12T13:34:22.480120Z",
     "start_time": "2021-12-12T13:34:22.471291Z"
    },
    "hidden": true
   },
   "outputs": [],
   "source": [
    "#df_sessions = pd.read_csv ('sessions.csv', low_memory = True)\n",
    "#df_sessions.shape"
   ]
  },
  {
   "cell_type": "markdown",
   "id": "07286555",
   "metadata": {
    "heading_collapsed": true
   },
   "source": [
    "# 1.0 Data Description"
   ]
  },
  {
   "cell_type": "code",
   "execution_count": 4,
   "id": "707121bf",
   "metadata": {
    "ExecuteTime": {
     "end_time": "2021-12-12T13:34:22.531110Z",
     "start_time": "2021-12-12T13:34:22.483764Z"
    },
    "hidden": true
   },
   "outputs": [],
   "source": [
    "df1 = df_raw.copy()"
   ]
  },
  {
   "cell_type": "code",
   "execution_count": 5,
   "id": "a433eecc",
   "metadata": {
    "ExecuteTime": {
     "end_time": "2021-12-12T13:34:22.546766Z",
     "start_time": "2021-12-12T13:34:22.533102Z"
    },
    "hidden": true,
    "scrolled": true
   },
   "outputs": [
    {
     "name": "stdout",
     "output_type": "stream",
     "text": [
      "Number of Rows: 213451.\n",
      "Number of Columns: 16.\n"
     ]
    }
   ],
   "source": [
    "print('Number of Rows: {}.'.format(df1.shape[0]))\n",
    "print('Number of Columns: {}.'.format(df1.shape[1]))"
   ]
  },
  {
   "cell_type": "markdown",
   "id": "58d42ae3",
   "metadata": {
    "ExecuteTime": {
     "end_time": "2021-12-09T16:36:14.264625Z",
     "start_time": "2021-12-09T16:36:14.254645Z"
    },
    "hidden": true
   },
   "source": [
    "## 1.1 Date Type"
   ]
  },
  {
   "cell_type": "code",
   "execution_count": 6,
   "id": "bc983ec2",
   "metadata": {
    "ExecuteTime": {
     "end_time": "2021-12-12T13:34:22.578040Z",
     "start_time": "2021-12-12T13:34:22.550008Z"
    },
    "hidden": true
   },
   "outputs": [
    {
     "data": {
      "text/plain": [
       "id                          object\n",
       "date_account_created        object\n",
       "timestamp_first_active       int64\n",
       "date_first_booking          object\n",
       "gender                      object\n",
       "age                        float64\n",
       "signup_method               object\n",
       "signup_flow                  int64\n",
       "language                    object\n",
       "affiliate_channel           object\n",
       "affiliate_provider          object\n",
       "first_affiliate_tracked     object\n",
       "signup_app                  object\n",
       "first_device_type           object\n",
       "first_browser               object\n",
       "country_destination         object\n",
       "dtype: object"
      ]
     },
     "execution_count": 6,
     "metadata": {},
     "output_type": "execute_result"
    }
   ],
   "source": [
    "df1.dtypes"
   ]
  },
  {
   "cell_type": "markdown",
   "id": "9aed965b",
   "metadata": {
    "hidden": true
   },
   "source": [
    "## 1.2 NA Check"
   ]
  },
  {
   "cell_type": "code",
   "execution_count": 7,
   "id": "62a42f1a",
   "metadata": {
    "ExecuteTime": {
     "end_time": "2021-12-12T13:34:22.895878Z",
     "start_time": "2021-12-12T13:34:22.586280Z"
    },
    "hidden": true,
    "scrolled": true
   },
   "outputs": [
    {
     "data": {
      "text/plain": [
       "id                              0\n",
       "date_account_created            0\n",
       "timestamp_first_active          0\n",
       "date_first_booking         124543\n",
       "gender                          0\n",
       "age                         87990\n",
       "signup_method                   0\n",
       "signup_flow                     0\n",
       "language                        0\n",
       "affiliate_channel               0\n",
       "affiliate_provider              0\n",
       "first_affiliate_tracked      6065\n",
       "signup_app                      0\n",
       "first_device_type               0\n",
       "first_browser                   0\n",
       "country_destination             0\n",
       "dtype: int64"
      ]
     },
     "execution_count": 7,
     "metadata": {},
     "output_type": "execute_result"
    }
   ],
   "source": [
    "df1.isna().sum()"
   ]
  },
  {
   "cell_type": "code",
   "execution_count": 8,
   "id": "e4e5bd38",
   "metadata": {
    "ExecuteTime": {
     "end_time": "2021-12-12T13:34:23.329719Z",
     "start_time": "2021-12-12T13:34:22.904790Z"
    },
    "hidden": true
   },
   "outputs": [],
   "source": [
    "#remove missing value completly\n",
    "\n",
    "df1 = df1.dropna()"
   ]
  },
  {
   "cell_type": "markdown",
   "id": "522caab2",
   "metadata": {
    "hidden": true
   },
   "source": [
    "## 1.3 Change Data Type"
   ]
  },
  {
   "cell_type": "code",
   "execution_count": 9,
   "id": "123dc09c",
   "metadata": {
    "ExecuteTime": {
     "end_time": "2021-12-12T13:34:23.982714Z",
     "start_time": "2021-12-12T13:34:23.339739Z"
    },
    "hidden": true
   },
   "outputs": [],
   "source": [
    "# date_account_created\n",
    "df1['date_account_created'] = pd.to_datetime (df1['date_account_created'])\n",
    "\n",
    "# timestamp_first_active\n",
    "df1['timestamp_first_active'] = pd.to_datetime (df1['timestamp_first_active'], format = '%Y%m%d%H%M%S')\n",
    "\n",
    "# date_first_booking\n",
    "df1['date_first_booking'] = pd.to_datetime (df1['date_first_booking'])\n",
    "\n",
    "# age\n",
    "df1['age'] = df1['age'].astype(int)"
   ]
  },
  {
   "cell_type": "markdown",
   "id": "78f65671",
   "metadata": {
    "hidden": true
   },
   "source": [
    "## 1.4 Check Balanced Data"
   ]
  },
  {
   "cell_type": "code",
   "execution_count": 10,
   "id": "fa53ed3f",
   "metadata": {
    "ExecuteTime": {
     "end_time": "2021-12-12T13:34:24.036003Z",
     "start_time": "2021-12-12T13:34:23.985721Z"
    },
    "hidden": true
   },
   "outputs": [
    {
     "data": {
      "text/plain": [
       "US       0.708864\n",
       "other    0.110854\n",
       "FR       0.054085\n",
       "IT       0.029763\n",
       "GB       0.025935\n",
       "ES       0.024864\n",
       "CA       0.015696\n",
       "DE       0.012454\n",
       "NL       0.008801\n",
       "AU       0.006366\n",
       "PT       0.002318\n",
       "Name: country_destination, dtype: float64"
      ]
     },
     "execution_count": 10,
     "metadata": {},
     "output_type": "execute_result"
    }
   ],
   "source": [
    "df1['country_destination'].value_counts(normalize = True) #percent"
   ]
  },
  {
   "cell_type": "markdown",
   "id": "7f3a02ea",
   "metadata": {
    "heading_collapsed": true
   },
   "source": [
    "# 2.0 Data Filtering"
   ]
  },
  {
   "cell_type": "code",
   "execution_count": 11,
   "id": "ca6d5ca2",
   "metadata": {
    "ExecuteTime": {
     "end_time": "2021-12-12T13:34:24.074098Z",
     "start_time": "2021-12-12T13:34:24.037060Z"
    },
    "hidden": true
   },
   "outputs": [],
   "source": [
    "df2 = df1. copy()"
   ]
  },
  {
   "cell_type": "markdown",
   "id": "4f60aab0",
   "metadata": {
    "hidden": true
   },
   "source": [
    "## 2.1 Columns Filtering Rows"
   ]
  },
  {
   "cell_type": "code",
   "execution_count": null,
   "id": "ce825e4c",
   "metadata": {
    "hidden": true
   },
   "outputs": [],
   "source": []
  },
  {
   "cell_type": "markdown",
   "id": "0b3bc856",
   "metadata": {
    "heading_collapsed": true
   },
   "source": [
    "# 3.0 Data Preparation"
   ]
  },
  {
   "cell_type": "code",
   "execution_count": 12,
   "id": "b3125c50",
   "metadata": {
    "ExecuteTime": {
     "end_time": "2021-12-12T13:34:24.108104Z",
     "start_time": "2021-12-12T13:34:24.078898Z"
    },
    "hidden": true
   },
   "outputs": [],
   "source": [
    "df3 = df2. copy()"
   ]
  },
  {
   "cell_type": "code",
   "execution_count": 13,
   "id": "f62554d0",
   "metadata": {
    "ExecuteTime": {
     "end_time": "2021-12-12T13:34:24.410052Z",
     "start_time": "2021-12-12T13:34:24.112852Z"
    },
    "hidden": true
   },
   "outputs": [],
   "source": [
    "# dummy variable\n",
    "df3_dummy = pd.get_dummies (df3.drop (['id', 'country_destination'], axis = 1 ))\n",
    "\n",
    "#join id and country destination\n",
    "df3 = pd.concat ([df3[['id', 'country_destination']], df3_dummy], axis = 1)"
   ]
  },
  {
   "cell_type": "markdown",
   "id": "16b400c1",
   "metadata": {
    "heading_collapsed": true
   },
   "source": [
    "# 4.0 Feature Selection"
   ]
  },
  {
   "cell_type": "code",
   "execution_count": 14,
   "id": "dd1ed6fe",
   "metadata": {
    "ExecuteTime": {
     "end_time": "2021-12-12T13:34:24.458143Z",
     "start_time": "2021-12-12T13:34:24.414684Z"
    },
    "hidden": true
   },
   "outputs": [],
   "source": [
    "#Exclusão de Features que não são relevantes para a construção do Modelo\n",
    "\n",
    "cols_drop = ['date_account_created', 'timestamp_first_active', 'date_first_booking']\n",
    "\n",
    "df4 = df3.drop (cols_drop, axis = 1)"
   ]
  },
  {
   "cell_type": "code",
   "execution_count": 15,
   "id": "45a58c8b",
   "metadata": {
    "ExecuteTime": {
     "end_time": "2021-12-12T13:34:24.494765Z",
     "start_time": "2021-12-12T13:34:24.462130Z"
    },
    "hidden": true
   },
   "outputs": [],
   "source": [
    "X = df4.drop ('country_destination', axis = 1)\n",
    "y = df4['country_destination'].copy()"
   ]
  },
  {
   "cell_type": "code",
   "execution_count": 16,
   "id": "b9fe4832",
   "metadata": {
    "ExecuteTime": {
     "end_time": "2021-12-12T13:34:24.627083Z",
     "start_time": "2021-12-12T13:34:24.499750Z"
    },
    "hidden": true
   },
   "outputs": [],
   "source": [
    "#Split DataSet into Training and Test\n",
    "\n",
    "X_train, X_test, y_train, y_test = ms.train_test_split(X, y, test_size = 0.2, random_state = 32)"
   ]
  },
  {
   "cell_type": "markdown",
   "id": "27cd8252",
   "metadata": {},
   "source": [
    "# 5.0 Machine Learning Model - Neural Network MLP (Validação)"
   ]
  },
  {
   "cell_type": "code",
   "execution_count": 17,
   "id": "172bf8ef",
   "metadata": {
    "ExecuteTime": {
     "end_time": "2021-12-12T13:34:24.661215Z",
     "start_time": "2021-12-12T13:34:24.632179Z"
    }
   },
   "outputs": [],
   "source": [
    "x_train = X_train.drop ('id', axis = 1)\n",
    "x_test = X_test.drop ('id', axis = 1)"
   ]
  },
  {
   "cell_type": "markdown",
   "id": "4865f9f3",
   "metadata": {},
   "source": [
    "## 5.1 Baseline Model"
   ]
  },
  {
   "cell_type": "code",
   "execution_count": 31,
   "id": "a45688a4",
   "metadata": {
    "ExecuteTime": {
     "end_time": "2021-12-12T13:49:57.317882Z",
     "start_time": "2021-12-12T13:49:57.266468Z"
    }
   },
   "outputs": [
    {
     "data": {
      "text/plain": [
       "13635"
      ]
     },
     "execution_count": 31,
     "metadata": {},
     "output_type": "execute_result"
    }
   ],
   "source": [
    "country_destination_list = df1['country_destination'].drop_duplicates().sort_values().tolist()\n",
    "k_num = y_test.shape[0]\n",
    "country_destination_weights = df1['country_destination'].value_counts(normalize = True).sort_index().tolist()\n",
    "\n",
    "#Modelo Entrega Valor Aleatório\n",
    "yhat_random = random.choices (population = country_destination_list, \n",
    "                              k = k_num,\n",
    "                              weights = country_destination_weights )\n",
    "len (yhat_random)"
   ]
  },
  {
   "cell_type": "code",
   "execution_count": 32,
   "id": "c4b5890c",
   "metadata": {
    "ExecuteTime": {
     "end_time": "2021-12-12T13:50:04.927893Z",
     "start_time": "2021-12-12T13:50:03.408039Z"
    }
   },
   "outputs": [
    {
     "name": "stdout",
     "output_type": "stream",
     "text": [
      "Accuracy: 0.7027502750275028\n",
      "Balanced Accuracy:0.08816332171186365\n",
      "Kappa Score: -0.0059268279059374596\n",
      "              precision    recall  f1-score   support\n",
      "\n",
      "          AU       0.00      0.00      0.00       101\n",
      "          CA       0.00      0.00      0.00       214\n",
      "          DE       0.01      0.01      0.01       170\n",
      "          ES       0.02      0.01      0.02       345\n",
      "          FR       0.04      0.05      0.05       710\n",
      "          GB       0.02      0.03      0.03       344\n",
      "          IT       0.02      0.02      0.02       423\n",
      "          NL       0.03      0.03      0.03       128\n",
      "          PT       0.00      0.00      0.00        36\n",
      "          US       0.70      0.71      0.71      9624\n",
      "       other       0.11      0.11      0.11      1540\n",
      "\n",
      "    accuracy                           0.52     13635\n",
      "   macro avg       0.09      0.09      0.09     13635\n",
      "weighted avg       0.51      0.52      0.51     13635\n",
      "\n"
     ]
    },
    {
     "data": {
      "text/plain": [
       "<AxesSubplot:title={'center':'Confusion Matrix'}, xlabel='Predicted label', ylabel='True label'>"
      ]
     },
     "execution_count": 32,
     "metadata": {},
     "output_type": "execute_result"
    },
    {
     "data": {
      "image/png": "[encoded data removed]",
      "text/plain": [
       "<Figure size 864x864 with 2 Axes>"
      ]
     },
     "metadata": {
      "needs_background": "light"
     },
     "output_type": "display_data"
    }
   ],
   "source": [
    "# Accuracy \n",
    "acc_random = m.accuracy_score (y_test_nn, yhat_nn)\n",
    "print( 'Accuracy: {}'.format (acc_random))\n",
    "\n",
    "#Balanced Accuracy\n",
    "\n",
    "balanced_acc_random = m.balanced_accuracy_score (y_test_nn, yhat_random)\n",
    "print ('Balanced Accuracy:{}'.format (balanced_acc_random))\n",
    "\n",
    "#Kappa Metrics\n",
    "kappa_random = m.cohen_kappa_score(y_test_nn, yhat_random)\n",
    "print ('Kappa Score: {}'.format (kappa_random))\n",
    "\n",
    "#classification report\n",
    "print (m.classification_report (y_test_nn, yhat_random))\n",
    "\n",
    "#Confusion Matrix\n",
    "mt.plot_confusion_matrix (y_test_nn, yhat_random, normalize = False, figsize = (12,12))"
   ]
  },
  {
   "cell_type": "markdown",
   "id": "97728b81",
   "metadata": {},
   "source": [
    "## 5.2 Neural Network - MLP"
   ]
  },
  {
   "cell_type": "code",
   "execution_count": 23,
   "id": "218e1330",
   "metadata": {
    "ExecuteTime": {
     "end_time": "2021-12-12T13:40:10.766852Z",
     "start_time": "2021-12-12T13:40:10.718468Z"
    }
   },
   "outputs": [],
   "source": [
    "ohe = pp.OneHotEncoder ()\n",
    "y_train_nn = ohe.fit_transform (y_train.values.reshape (-1,1)).toarray()"
   ]
  },
  {
   "cell_type": "code",
   "execution_count": 25,
   "id": "af6adf19",
   "metadata": {
    "ExecuteTime": {
     "end_time": "2021-12-12T13:49:12.621957Z",
     "start_time": "2021-12-12T13:40:17.559715Z"
    },
    "scrolled": true
   },
   "outputs": [
    {
     "name": "stdout",
     "output_type": "stream",
     "text": [
      "Epoch 1/100\n",
      "1705/1705 [==============================] - 5s 2ms/step - loss: 1.4083 - accuracy: 0.6969\n",
      "Epoch 2/100\n",
      "1705/1705 [==============================] - 4s 2ms/step - loss: 1.2635 - accuracy: 0.7075\n",
      "Epoch 3/100\n",
      "1705/1705 [==============================] - 4s 3ms/step - loss: 1.2469 - accuracy: 0.7079\n",
      "Epoch 4/100\n",
      "1705/1705 [==============================] - 8s 5ms/step - loss: 1.2143 - accuracy: 0.7085\n",
      "Epoch 5/100\n",
      "1705/1705 [==============================] - 7s 4ms/step - loss: 1.1938 - accuracy: 0.7085\n",
      "Epoch 6/100\n",
      "1705/1705 [==============================] - 6s 4ms/step - loss: 1.1786 - accuracy: 0.7086\n",
      "Epoch 7/100\n",
      "1705/1705 [==============================] - 7s 4ms/step - loss: 1.1664 - accuracy: 0.7086\n",
      "Epoch 8/100\n",
      "1705/1705 [==============================] - 7s 4ms/step - loss: 1.1512 - accuracy: 0.7088\n",
      "Epoch 9/100\n",
      "1705/1705 [==============================] - 7s 4ms/step - loss: 1.1468 - accuracy: 0.7087\n",
      "Epoch 10/100\n",
      "1705/1705 [==============================] - 7s 4ms/step - loss: 1.1420 - accuracy: 0.7088\n",
      "Epoch 11/100\n",
      "1705/1705 [==============================] - 7s 4ms/step - loss: 1.1376 - accuracy: 0.7090\n",
      "Epoch 12/100\n",
      "1705/1705 [==============================] - 7s 4ms/step - loss: 1.1348 - accuracy: 0.7090\n",
      "Epoch 13/100\n",
      "1705/1705 [==============================] - 7s 4ms/step - loss: 1.1328 - accuracy: 0.7094\n",
      "Epoch 14/100\n",
      "1705/1705 [==============================] - 7s 4ms/step - loss: 1.1301 - accuracy: 0.7094\n",
      "Epoch 15/100\n",
      "1705/1705 [==============================] - 6s 4ms/step - loss: 1.1293 - accuracy: 0.7095\n",
      "Epoch 16/100\n",
      "1705/1705 [==============================] - 7s 4ms/step - loss: 1.1281 - accuracy: 0.7095\n",
      "Epoch 17/100\n",
      "1705/1705 [==============================] - 5s 3ms/step - loss: 1.1272 - accuracy: 0.7096\n",
      "Epoch 18/100\n",
      "1705/1705 [==============================] - 7s 4ms/step - loss: 1.1258 - accuracy: 0.7096\n",
      "Epoch 19/100\n",
      "1705/1705 [==============================] - 6s 4ms/step - loss: 1.1253 - accuracy: 0.7096\n",
      "Epoch 20/100\n",
      "1705/1705 [==============================] - 6s 4ms/step - loss: 1.1243 - accuracy: 0.7096\n",
      "Epoch 21/100\n",
      "1705/1705 [==============================] - 8s 5ms/step - loss: 1.1243 - accuracy: 0.7096\n",
      "Epoch 22/100\n",
      "1705/1705 [==============================] - 6s 3ms/step - loss: 1.1229 - accuracy: 0.7098\n",
      "Epoch 23/100\n",
      "1705/1705 [==============================] - 7s 4ms/step - loss: 1.1221 - accuracy: 0.7098\n",
      "Epoch 24/100\n",
      "1705/1705 [==============================] - 7s 4ms/step - loss: 1.1211 - accuracy: 0.7097\n",
      "Epoch 25/100\n",
      "1705/1705 [==============================] - 6s 4ms/step - loss: 1.1201 - accuracy: 0.7098\n",
      "Epoch 26/100\n",
      "1705/1705 [==============================] - 4s 2ms/step - loss: 1.1200 - accuracy: 0.7098\n",
      "Epoch 27/100\n",
      "1705/1705 [==============================] - 4s 2ms/step - loss: 1.1188 - accuracy: 0.7099\n",
      "Epoch 28/100\n",
      "1705/1705 [==============================] - 4s 2ms/step - loss: 1.1177 - accuracy: 0.7100\n",
      "Epoch 29/100\n",
      "1705/1705 [==============================] - 4s 2ms/step - loss: 1.1172 - accuracy: 0.7099\n",
      "Epoch 30/100\n",
      "1705/1705 [==============================] - 4s 2ms/step - loss: 1.1165 - accuracy: 0.7098\n",
      "Epoch 31/100\n",
      "1705/1705 [==============================] - 4s 2ms/step - loss: 1.1160 - accuracy: 0.7100\n",
      "Epoch 32/100\n",
      "1705/1705 [==============================] - 3s 2ms/step - loss: 1.1156 - accuracy: 0.7099\n",
      "Epoch 33/100\n",
      "1705/1705 [==============================] - 4s 2ms/step - loss: 1.1150 - accuracy: 0.7098\n",
      "Epoch 34/100\n",
      "1705/1705 [==============================] - 4s 2ms/step - loss: 1.1140 - accuracy: 0.7101\n",
      "Epoch 35/100\n",
      "1705/1705 [==============================] - 4s 2ms/step - loss: 1.1136 - accuracy: 0.7100\n",
      "Epoch 36/100\n",
      "1705/1705 [==============================] - 4s 2ms/step - loss: 1.1136 - accuracy: 0.7102\n",
      "Epoch 37/100\n",
      "1705/1705 [==============================] - 4s 2ms/step - loss: 1.1129 - accuracy: 0.7101\n",
      "Epoch 38/100\n",
      "1705/1705 [==============================] - 4s 2ms/step - loss: 1.1120 - accuracy: 0.7102\n",
      "Epoch 39/100\n",
      "1705/1705 [==============================] - 3s 2ms/step - loss: 1.1113 - accuracy: 0.7100\n",
      "Epoch 40/100\n",
      "1705/1705 [==============================] - 4s 2ms/step - loss: 1.1109 - accuracy: 0.7102\n",
      "Epoch 41/100\n",
      "1705/1705 [==============================] - 3s 2ms/step - loss: 1.1103 - accuracy: 0.7102\n",
      "Epoch 42/100\n",
      "1705/1705 [==============================] - 3s 2ms/step - loss: 1.1095 - accuracy: 0.7104\n",
      "Epoch 43/100\n",
      "1705/1705 [==============================] - 3s 2ms/step - loss: 1.1092 - accuracy: 0.7105\n",
      "Epoch 44/100\n",
      "1705/1705 [==============================] - 3s 2ms/step - loss: 1.1093 - accuracy: 0.7104\n",
      "Epoch 45/100\n",
      "1705/1705 [==============================] - 3s 2ms/step - loss: 1.1087 - accuracy: 0.7104\n",
      "Epoch 46/100\n",
      "1705/1705 [==============================] - 3s 2ms/step - loss: 1.1089 - accuracy: 0.7104\n",
      "Epoch 47/100\n",
      "1705/1705 [==============================] - 4s 2ms/step - loss: 1.1074 - accuracy: 0.7103\n",
      "Epoch 48/100\n",
      "1705/1705 [==============================] - 4s 2ms/step - loss: 1.1075 - accuracy: 0.7107\n",
      "Epoch 49/100\n",
      "1705/1705 [==============================] - 4s 3ms/step - loss: 1.1074 - accuracy: 0.7107\n",
      "Epoch 50/100\n",
      "1705/1705 [==============================] - 6s 3ms/step - loss: 1.1068 - accuracy: 0.7107\n",
      "Epoch 51/100\n",
      "1705/1705 [==============================] - 7s 4ms/step - loss: 1.1056 - accuracy: 0.7109\n",
      "Epoch 52/100\n",
      "1705/1705 [==============================] - 7s 4ms/step - loss: 1.1055 - accuracy: 0.7108\n",
      "Epoch 53/100\n",
      "1705/1705 [==============================] - 8s 5ms/step - loss: 1.1053 - accuracy: 0.7109\n",
      "Epoch 54/100\n",
      "1705/1705 [==============================] - 7s 4ms/step - loss: 1.1046 - accuracy: 0.7110\n",
      "Epoch 55/100\n",
      "1705/1705 [==============================] - 7s 4ms/step - loss: 1.1049 - accuracy: 0.7108\n",
      "Epoch 56/100\n",
      "1705/1705 [==============================] - 7s 4ms/step - loss: 1.1039 - accuracy: 0.7110\n",
      "Epoch 57/100\n",
      "1705/1705 [==============================] - 5s 3ms/step - loss: 1.1040 - accuracy: 0.7110\n",
      "Epoch 58/100\n",
      "1705/1705 [==============================] - 7s 4ms/step - loss: 1.1029 - accuracy: 0.7111\n",
      "Epoch 59/100\n",
      "1705/1705 [==============================] - 6s 3ms/step - loss: 1.1028 - accuracy: 0.7114\n",
      "Epoch 60/100\n",
      "1705/1705 [==============================] - 5s 3ms/step - loss: 1.1025 - accuracy: 0.7112\n",
      "Epoch 61/100\n",
      "1705/1705 [==============================] - 4s 2ms/step - loss: 1.1021 - accuracy: 0.7113\n",
      "Epoch 62/100\n",
      "1705/1705 [==============================] - 4s 2ms/step - loss: 1.1017 - accuracy: 0.7112\n",
      "Epoch 63/100\n",
      "1705/1705 [==============================] - 4s 2ms/step - loss: 1.1017 - accuracy: 0.7111\n",
      "Epoch 64/100\n",
      "1705/1705 [==============================] - 4s 2ms/step - loss: 1.1016 - accuracy: 0.7113\n",
      "Epoch 65/100\n",
      "1705/1705 [==============================] - 4s 2ms/step - loss: 1.1035 - accuracy: 0.7111\n",
      "Epoch 66/100\n",
      "1705/1705 [==============================] - 4s 2ms/step - loss: 1.1019 - accuracy: 0.7112\n",
      "Epoch 67/100\n",
      "1705/1705 [==============================] - 4s 2ms/step - loss: 1.1008 - accuracy: 0.7111\n",
      "Epoch 68/100\n",
      "1705/1705 [==============================] - 3s 2ms/step - loss: 1.1003 - accuracy: 0.7116\n",
      "Epoch 69/100\n",
      "1705/1705 [==============================] - 4s 2ms/step - loss: 1.0998 - accuracy: 0.7114\n",
      "Epoch 70/100\n",
      "1705/1705 [==============================] - 4s 2ms/step - loss: 1.0995 - accuracy: 0.7113\n",
      "Epoch 71/100\n",
      "1705/1705 [==============================] - 4s 2ms/step - loss: 1.1004 - accuracy: 0.7114\n",
      "Epoch 72/100\n",
      "1705/1705 [==============================] - 3s 2ms/step - loss: 1.0997 - accuracy: 0.7115\n",
      "Epoch 73/100\n",
      "1705/1705 [==============================] - 4s 2ms/step - loss: 1.0990 - accuracy: 0.7118\n",
      "Epoch 74/100\n",
      "1705/1705 [==============================] - 5s 3ms/step - loss: 1.0982 - accuracy: 0.7118\n",
      "Epoch 75/100\n",
      "1705/1705 [==============================] - 6s 3ms/step - loss: 1.0983 - accuracy: 0.7115\n",
      "Epoch 76/100\n",
      "1705/1705 [==============================] - 6s 4ms/step - loss: 1.0982 - accuracy: 0.7119\n",
      "Epoch 77/100\n",
      "1705/1705 [==============================] - 7s 4ms/step - loss: 1.0985 - accuracy: 0.7117\n",
      "Epoch 78/100\n",
      "1705/1705 [==============================] - 7s 4ms/step - loss: 1.0972 - accuracy: 0.7118\n",
      "Epoch 79/100\n",
      "1705/1705 [==============================] - 7s 4ms/step - loss: 1.0973 - accuracy: 0.7119\n",
      "Epoch 80/100\n",
      "1705/1705 [==============================] - 7s 4ms/step - loss: 1.0978 - accuracy: 0.7116: 0s - loss: 1.0983 - accura\n",
      "Epoch 81/100\n",
      "1705/1705 [==============================] - 7s 4ms/step - loss: 1.0976 - accuracy: 0.7122\n",
      "Epoch 82/100\n",
      "1705/1705 [==============================] - 7s 4ms/step - loss: 1.0968 - accuracy: 0.7122\n",
      "Epoch 83/100\n",
      "1705/1705 [==============================] - 4s 2ms/step - loss: 1.0967 - accuracy: 0.7120\n",
      "Epoch 84/100\n",
      "1705/1705 [==============================] - 7s 4ms/step - loss: 1.0962 - accuracy: 0.7122\n",
      "Epoch 85/100\n",
      "1705/1705 [==============================] - 6s 4ms/step - loss: 1.0961 - accuracy: 0.7119\n",
      "Epoch 86/100\n",
      "1705/1705 [==============================] - 5s 3ms/step - loss: 1.0959 - accuracy: 0.7123\n",
      "Epoch 87/100\n",
      "1705/1705 [==============================] - 5s 3ms/step - loss: 1.0957 - accuracy: 0.7125\n",
      "Epoch 88/100\n",
      "1705/1705 [==============================] - 5s 3ms/step - loss: 1.0957 - accuracy: 0.7123\n",
      "Epoch 89/100\n",
      "1705/1705 [==============================] - 7s 4ms/step - loss: 1.0951 - accuracy: 0.7121\n",
      "Epoch 90/100\n",
      "1705/1705 [==============================] - 7s 4ms/step - loss: 1.0954 - accuracy: 0.7122\n",
      "Epoch 91/100\n",
      "1705/1705 [==============================] - 5s 3ms/step - loss: 1.0952 - accuracy: 0.7122\n",
      "Epoch 92/100\n",
      "1705/1705 [==============================] - 7s 4ms/step - loss: 1.0947 - accuracy: 0.7121\n",
      "Epoch 93/100\n",
      "1705/1705 [==============================] - 6s 3ms/step - loss: 1.0947 - accuracy: 0.7124\n",
      "Epoch 94/100\n",
      "1705/1705 [==============================] - 7s 4ms/step - loss: 1.0941 - accuracy: 0.7121\n",
      "Epoch 95/100\n",
      "1705/1705 [==============================] - ETA: 0s - loss: 1.0940 - accuracy: 0.71 - 6s 4ms/step - loss: 1.0940 - accuracy: 0.7122\n",
      "Epoch 96/100\n",
      "1705/1705 [==============================] - 6s 4ms/step - loss: 1.0943 - accuracy: 0.7123\n",
      "Epoch 97/100\n",
      "1705/1705 [==============================] - 5s 3ms/step - loss: 1.0946 - accuracy: 0.7125\n",
      "Epoch 98/100\n",
      "1705/1705 [==============================] - 5s 3ms/step - loss: 1.0939 - accuracy: 0.7125\n",
      "Epoch 99/100\n",
      "1705/1705 [==============================] - 6s 3ms/step - loss: 1.0942 - accuracy: 0.7126\n",
      "Epoch 100/100\n",
      "1705/1705 [==============================] - 7s 4ms/step - loss: 1.0938 - accuracy: 0.7125\n"
     ]
    },
    {
     "data": {
      "text/plain": [
       "<keras.callbacks.History at 0x1c989acea60>"
      ]
     },
     "execution_count": 25,
     "metadata": {},
     "output_type": "execute_result"
    }
   ],
   "source": [
    "#model definition\n",
    "model = ml.Sequential()\n",
    "model.add (l.Dense(128, input_dim = x_train.shape[1], activation = 'relu'))\n",
    "model.add (l.Dense(11, activation = 'softmax'))\n",
    "\n",
    "#model compile\n",
    "model.compile ( loss = 'categorical_crossentropy', optimizer = 'adam', metrics = ['accuracy'])\n",
    "#train model\n",
    "model.fit (x_train, y_train_nn, epochs = 100)"
   ]
  },
  {
   "cell_type": "code",
   "execution_count": 26,
   "id": "0f969d33",
   "metadata": {
    "ExecuteTime": {
     "end_time": "2021-12-12T13:49:14.073078Z",
     "start_time": "2021-12-12T13:49:12.632842Z"
    }
   },
   "outputs": [],
   "source": [
    "#predicition\n",
    "pred_nn = model.predict (x_test)\n",
    "\n",
    "#invert prediction\n",
    "yhat_nn = ohe.inverse_transform (pred_nn)\n",
    "\n",
    "#prediction prepare\n",
    "y_test_nn = y_test.to_numpy()\n",
    "yhat_nn = yhat_nn.reshape (1, -1)[0]"
   ]
  },
  {
   "cell_type": "markdown",
   "id": "3c8eb0f3",
   "metadata": {},
   "source": [
    "## 5.2 Neural Network - CV"
   ]
  },
  {
   "cell_type": "code",
   "execution_count": null,
   "id": "3c65578f",
   "metadata": {},
   "outputs": [],
   "source": [
    "#generate k-fold\n",
    "\n",
    "num_folds = 5\n",
    "kfold = StratifiedKFold (n_splits = num_folds, shuffle = True, random_state = 32)\n",
    "\n",
    "for train_ix, val_ix in kfols.split (x_train, y_train):\n",
    "    \n",
    "    #get fold\n",
    "    x_train.iloc[train_ix]\n",
    "    \n",
    "    \n",
    "    \n",
    "    #model definition\n",
    "    model = ml.Sequential()\n",
    "    model.add (l.Dense(256, input_dim = x_train.shape[1], activation = 'relu'))\n",
    "    model.add (l.Dense(11, activation = 'softmax'))\n",
    "\n",
    "    #model compile\n",
    "    model.compile ( loss = 'categorical_crossentropy', optimizer = 'adam', metrics = ['accuracy'])\n",
    "    \n",
    "    \n",
    "    #train model\n",
    "    model.fit (x_train, y_train_nn, epochs = 100, batch_size = 32, verbose = 0)"
   ]
  }
 ],
 "metadata": {
  "kernelspec": {
   "display_name": "Python 3 (ipykernel)",
   "language": "python",
   "name": "python3"
  },
  "language_info": {
   "codemirror_mode": {
    "name": "ipython",
    "version": 3
   },
   "file_extension": ".py",
   "mimetype": "text/x-python",
   "name": "python",
   "nbconvert_exporter": "python",
   "pygments_lexer": "ipython3",
   "version": "3.8.12"
  }
 },
 "nbformat": 4,
 "nbformat_minor": 5
}
