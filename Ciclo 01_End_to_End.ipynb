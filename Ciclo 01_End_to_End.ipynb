{
 "cells": [
  {
   "cell_type": "markdown",
   "id": "17269343",
   "metadata": {},
   "source": [
    "# <center> Entender o Problema"
   ]
  },
  {
   "cell_type": "markdown",
   "id": "11cf7964",
   "metadata": {},
   "source": [
    "-- Objetivo do Problema:\n",
    "    -- 1.0 Previsão do primeiro destino que um novo usuário irá escolher.\n",
    "    \n",
    "    -- Por que?\n",
    "        -- Qual tipo de modelo de negócio do Airbnb?\n",
    "        --(MarketPlace - Conecta Pessoas que Oferecem Acomodaões que estão procurando Acomodação)\n",
    "            -- Tamanho do Portfólio\n",
    "            -- Diversidade/Densidade de Portfólio\n",
    "            -- Preço Médio\n",
    "        -- Demanda (Procura de Acomodações)\n",
    "            -- Número de Usuários\n",
    "            -- LTV (Lifetime Value)\n",
    "            -- CAC (Client Acquisition Cost - Propaganda Instagram/Youtube)\n",
    "            \n",
    "        --  Revenue ( O que o AirBnb quer )\n",
    "            Gross Revenue = Fee*Número Cliente - CAC (Margens de Contribuição)\n",
    "            \n",
    "            \n",
    "-- Proposta da Solução\n",
    "    -- Modelo de Previsão do primeiro destino de um novo usário\n",
    "    -- 1.0 Predições e salva em Tabela do Banco de Dados.\n",
    "    -- 2.0 API:\n",
    "        \n",
    "        --- Input: Usuário e sua Características\n",
    "        --- Output: Usuário e suas características com a **predição do destino**\n",
    "            \n",
    "\n"
   ]
  },
  {
   "cell_type": "markdown",
   "id": "87dfb1ba",
   "metadata": {
    "heading_collapsed": true
   },
   "source": [
    "# 0.0 Imports"
   ]
  },
  {
   "cell_type": "code",
   "execution_count": 25,
   "id": "63840722",
   "metadata": {
    "ExecuteTime": {
     "end_time": "2021-12-09T19:00:14.571878Z",
     "start_time": "2021-12-09T19:00:08.650106Z"
    },
    "hidden": true
   },
   "outputs": [],
   "source": [
    "import pandas as pd\n",
    "\n",
    "from keras      import models          as ml\n",
    "from keras      import layers          as l\n",
    "from sklearn    import model_selection as ms\n",
    "from sklearn    import preprocessing   as pp\n",
    "from sklearn    import metrics         as m\n",
    "from scikitplot import metrics      as mt"
   ]
  },
  {
   "cell_type": "markdown",
   "id": "d79c85ee",
   "metadata": {
    "heading_collapsed": true,
    "hidden": true
   },
   "source": [
    "## 0.1 Helper Funtions"
   ]
  },
  {
   "cell_type": "markdown",
   "id": "f671b54f",
   "metadata": {
    "heading_collapsed": true,
    "hidden": true
   },
   "source": [
    "## 0.2 Loanding Data"
   ]
  },
  {
   "cell_type": "code",
   "execution_count": 2,
   "id": "81ec7385",
   "metadata": {
    "ExecuteTime": {
     "end_time": "2021-12-09T18:35:18.655801Z",
     "start_time": "2021-12-09T18:35:18.203362Z"
    },
    "hidden": true
   },
   "outputs": [
    {
     "data": {
      "text/plain": [
       "(213451, 16)"
      ]
     },
     "execution_count": 2,
     "metadata": {},
     "output_type": "execute_result"
    }
   ],
   "source": [
    "df_raw = pd.read_csv ('training_users.csv', low_memory = True)\n",
    "df_raw.shape"
   ]
  },
  {
   "cell_type": "code",
   "execution_count": 3,
   "id": "4ed2adc1",
   "metadata": {
    "ExecuteTime": {
     "end_time": "2021-12-09T18:35:18.671494Z",
     "start_time": "2021-12-09T18:35:18.662648Z"
    },
    "hidden": true
   },
   "outputs": [],
   "source": [
    "#df_sessions = pd.read_csv ('sessions.csv', low_memory = True)\n",
    "#df_sessions.shape"
   ]
  },
  {
   "cell_type": "markdown",
   "id": "07286555",
   "metadata": {
    "heading_collapsed": true
   },
   "source": [
    "# 1.0 Data Description"
   ]
  },
  {
   "cell_type": "code",
   "execution_count": 4,
   "id": "707121bf",
   "metadata": {
    "ExecuteTime": {
     "end_time": "2021-12-09T18:35:18.702448Z",
     "start_time": "2021-12-09T18:35:18.680437Z"
    },
    "hidden": true
   },
   "outputs": [],
   "source": [
    "df1 = df_raw.copy()"
   ]
  },
  {
   "cell_type": "code",
   "execution_count": 5,
   "id": "a433eecc",
   "metadata": {
    "ExecuteTime": {
     "end_time": "2021-12-09T18:35:18.718385Z",
     "start_time": "2021-12-09T18:35:18.705407Z"
    },
    "hidden": true,
    "scrolled": true
   },
   "outputs": [
    {
     "name": "stdout",
     "output_type": "stream",
     "text": [
      "Number of Rows: 213451.\n",
      "Number of Columns: 16.\n"
     ]
    }
   ],
   "source": [
    "print('Number of Rows: {}.'.format(df1.shape[0]))\n",
    "print('Number of Columns: {}.'.format(df1.shape[1]))"
   ]
  },
  {
   "cell_type": "markdown",
   "id": "58d42ae3",
   "metadata": {
    "ExecuteTime": {
     "end_time": "2021-12-09T16:36:14.264625Z",
     "start_time": "2021-12-09T16:36:14.254645Z"
    },
    "hidden": true
   },
   "source": [
    "## 1.1 Date Type"
   ]
  },
  {
   "cell_type": "code",
   "execution_count": 6,
   "id": "bc983ec2",
   "metadata": {
    "ExecuteTime": {
     "end_time": "2021-12-09T18:35:18.734296Z",
     "start_time": "2021-12-09T18:35:18.721327Z"
    },
    "hidden": true
   },
   "outputs": [
    {
     "data": {
      "text/plain": [
       "id                          object\n",
       "date_account_created        object\n",
       "timestamp_first_active       int64\n",
       "date_first_booking          object\n",
       "gender                      object\n",
       "age                        float64\n",
       "signup_method               object\n",
       "signup_flow                  int64\n",
       "language                    object\n",
       "affiliate_channel           object\n",
       "affiliate_provider          object\n",
       "first_affiliate_tracked     object\n",
       "signup_app                  object\n",
       "first_device_type           object\n",
       "first_browser               object\n",
       "country_destination         object\n",
       "dtype: object"
      ]
     },
     "execution_count": 6,
     "metadata": {},
     "output_type": "execute_result"
    }
   ],
   "source": [
    "df1.dtypes"
   ]
  },
  {
   "cell_type": "markdown",
   "id": "9aed965b",
   "metadata": {
    "hidden": true
   },
   "source": [
    "## 1.2 NA Check"
   ]
  },
  {
   "cell_type": "code",
   "execution_count": 7,
   "id": "62a42f1a",
   "metadata": {
    "ExecuteTime": {
     "end_time": "2021-12-09T18:35:18.923012Z",
     "start_time": "2021-12-09T18:35:18.738281Z"
    },
    "hidden": true,
    "scrolled": true
   },
   "outputs": [
    {
     "data": {
      "text/plain": [
       "id                              0\n",
       "date_account_created            0\n",
       "timestamp_first_active          0\n",
       "date_first_booking         124543\n",
       "gender                          0\n",
       "age                         87990\n",
       "signup_method                   0\n",
       "signup_flow                     0\n",
       "language                        0\n",
       "affiliate_channel               0\n",
       "affiliate_provider              0\n",
       "first_affiliate_tracked      6065\n",
       "signup_app                      0\n",
       "first_device_type               0\n",
       "first_browser                   0\n",
       "country_destination             0\n",
       "dtype: int64"
      ]
     },
     "execution_count": 7,
     "metadata": {},
     "output_type": "execute_result"
    }
   ],
   "source": [
    "df1.isna().sum()"
   ]
  },
  {
   "cell_type": "code",
   "execution_count": 8,
   "id": "e4e5bd38",
   "metadata": {
    "ExecuteTime": {
     "end_time": "2021-12-09T18:35:19.110690Z",
     "start_time": "2021-12-09T18:35:18.926971Z"
    },
    "hidden": true
   },
   "outputs": [],
   "source": [
    "#remove missing value completly\n",
    "\n",
    "df1 = df1.dropna()"
   ]
  },
  {
   "cell_type": "markdown",
   "id": "522caab2",
   "metadata": {
    "hidden": true
   },
   "source": [
    "## 1.3 Change Data Type"
   ]
  },
  {
   "cell_type": "code",
   "execution_count": 9,
   "id": "123dc09c",
   "metadata": {
    "ExecuteTime": {
     "end_time": "2021-12-09T18:35:19.537311Z",
     "start_time": "2021-12-09T18:35:19.114904Z"
    },
    "hidden": true
   },
   "outputs": [],
   "source": [
    "# date_account_created\n",
    "df1['date_account_created'] = pd.to_datetime (df1['date_account_created'])\n",
    "\n",
    "# timestamp_first_active\n",
    "df1['timestamp_first_active'] = pd.to_datetime (df1['timestamp_first_active'], format = '%Y%m%d%H%M%S')\n",
    "\n",
    "# date_first_booking\n",
    "df1['date_first_booking'] = pd.to_datetime (df1['date_first_booking'])\n",
    "\n",
    "# age\n",
    "df1['age'] = df1['age'].astype(int)"
   ]
  },
  {
   "cell_type": "markdown",
   "id": "78f65671",
   "metadata": {
    "hidden": true
   },
   "source": [
    "## 1.4 Check Balanced Data"
   ]
  },
  {
   "cell_type": "code",
   "execution_count": 10,
   "id": "fa53ed3f",
   "metadata": {
    "ExecuteTime": {
     "end_time": "2021-12-09T18:35:19.569193Z",
     "start_time": "2021-12-09T18:35:19.540292Z"
    },
    "hidden": true
   },
   "outputs": [
    {
     "data": {
      "text/plain": [
       "US       0.708864\n",
       "other    0.110854\n",
       "FR       0.054085\n",
       "IT       0.029763\n",
       "GB       0.025935\n",
       "ES       0.024864\n",
       "CA       0.015696\n",
       "DE       0.012454\n",
       "NL       0.008801\n",
       "AU       0.006366\n",
       "PT       0.002318\n",
       "Name: country_destination, dtype: float64"
      ]
     },
     "execution_count": 10,
     "metadata": {},
     "output_type": "execute_result"
    }
   ],
   "source": [
    "df1['country_destination'].value_counts(normalize = True) #percent"
   ]
  },
  {
   "cell_type": "markdown",
   "id": "7f3a02ea",
   "metadata": {
    "heading_collapsed": true
   },
   "source": [
    "# 2.0 Data Filtering"
   ]
  },
  {
   "cell_type": "code",
   "execution_count": 11,
   "id": "ca6d5ca2",
   "metadata": {
    "ExecuteTime": {
     "end_time": "2021-12-09T18:35:19.600305Z",
     "start_time": "2021-12-09T18:35:19.572191Z"
    },
    "hidden": true
   },
   "outputs": [],
   "source": [
    "df2 = df1. copy()"
   ]
  },
  {
   "cell_type": "markdown",
   "id": "4f60aab0",
   "metadata": {
    "hidden": true
   },
   "source": [
    "## 2.1 Columns Filtering Rows"
   ]
  },
  {
   "cell_type": "code",
   "execution_count": null,
   "id": "ce825e4c",
   "metadata": {
    "hidden": true
   },
   "outputs": [],
   "source": []
  },
  {
   "cell_type": "markdown",
   "id": "0b3bc856",
   "metadata": {
    "heading_collapsed": true
   },
   "source": [
    "# 3.0 Data Preparation"
   ]
  },
  {
   "cell_type": "code",
   "execution_count": 12,
   "id": "b3125c50",
   "metadata": {
    "ExecuteTime": {
     "end_time": "2021-12-09T18:35:19.616297Z",
     "start_time": "2021-12-09T18:35:19.603308Z"
    },
    "hidden": true
   },
   "outputs": [],
   "source": [
    "df3 = df2. copy()"
   ]
  },
  {
   "cell_type": "code",
   "execution_count": 13,
   "id": "f62554d0",
   "metadata": {
    "ExecuteTime": {
     "end_time": "2021-12-09T18:35:19.787439Z",
     "start_time": "2021-12-09T18:35:19.620769Z"
    },
    "hidden": true
   },
   "outputs": [],
   "source": [
    "# dummy variable\n",
    "df3_dummy = pd.get_dummies (df3.drop (['id', 'country_destination'], axis = 1 ))\n",
    "\n",
    "#join id and country destination\n",
    "df3 = pd.concat ([df3[['id', 'country_destination']], df3_dummy], axis = 1)"
   ]
  },
  {
   "cell_type": "markdown",
   "id": "16b400c1",
   "metadata": {
    "heading_collapsed": true
   },
   "source": [
    "# 4.0 Feature Selection"
   ]
  },
  {
   "cell_type": "code",
   "execution_count": 14,
   "id": "dd1ed6fe",
   "metadata": {
    "ExecuteTime": {
     "end_time": "2021-12-09T18:35:19.818472Z",
     "start_time": "2021-12-09T18:35:19.789607Z"
    },
    "hidden": true
   },
   "outputs": [],
   "source": [
    "#Exclusão de Features que não são relevantes para a construção do Modelo\n",
    "\n",
    "cols_drop = ['date_account_created', 'timestamp_first_active', 'date_first_booking']\n",
    "\n",
    "df4 = df3.drop (cols_drop, axis = 1)"
   ]
  },
  {
   "cell_type": "markdown",
   "id": "27cd8252",
   "metadata": {
    "heading_collapsed": true
   },
   "source": [
    "# 5.0 Machine Learning Model - Neural Network MLP (Validação)"
   ]
  },
  {
   "cell_type": "code",
   "execution_count": 15,
   "id": "45a58c8b",
   "metadata": {
    "ExecuteTime": {
     "end_time": "2021-12-09T18:35:19.848628Z",
     "start_time": "2021-12-09T18:35:19.822227Z"
    },
    "hidden": true
   },
   "outputs": [],
   "source": [
    "X = df4.drop ('country_destination', axis = 1)\n",
    "y = df4['country_destination'].copy()"
   ]
  },
  {
   "cell_type": "code",
   "execution_count": 16,
   "id": "b9fe4832",
   "metadata": {
    "ExecuteTime": {
     "end_time": "2021-12-09T18:35:19.957792Z",
     "start_time": "2021-12-09T18:35:19.852612Z"
    },
    "hidden": true
   },
   "outputs": [],
   "source": [
    "#Split DataSet into Training and Test\n",
    "\n",
    "X_train, X_test, y_train, y_test = ms.train_test_split(X, y, test_size = 0.2, random_state = 32)"
   ]
  },
  {
   "cell_type": "code",
   "execution_count": 17,
   "id": "172bf8ef",
   "metadata": {
    "ExecuteTime": {
     "end_time": "2021-12-09T18:35:19.989114Z",
     "start_time": "2021-12-09T18:35:19.961085Z"
    },
    "hidden": true
   },
   "outputs": [],
   "source": [
    "x_train = X_train.drop ('id', axis = 1)\n",
    "x_test = X_test.drop ('id', axis = 1)"
   ]
  },
  {
   "cell_type": "code",
   "execution_count": 18,
   "id": "218e1330",
   "metadata": {
    "ExecuteTime": {
     "end_time": "2021-12-09T18:35:20.035877Z",
     "start_time": "2021-12-09T18:35:19.991954Z"
    },
    "hidden": true
   },
   "outputs": [],
   "source": [
    "ohe = pp.OneHotEncoder ()\n",
    "y_train_nn = ohe.fit_transform (y_train.values.reshape (-1,1)).toarray()"
   ]
  },
  {
   "cell_type": "code",
   "execution_count": 19,
   "id": "af6adf19",
   "metadata": {
    "ExecuteTime": {
     "end_time": "2021-12-09T18:38:49.899313Z",
     "start_time": "2021-12-09T18:35:20.039868Z"
    },
    "hidden": true,
    "scrolled": true
   },
   "outputs": [
    {
     "name": "stdout",
     "output_type": "stream",
     "text": [
      "Epoch 1/100\n",
      "1705/1705 [==============================] - 2s 1ms/step - loss: 1.3307 - accuracy: 0.7027\n",
      "Epoch 2/100\n",
      "1705/1705 [==============================] - 2s 1ms/step - loss: 1.2781 - accuracy: 0.7072\n",
      "Epoch 3/100\n",
      "1705/1705 [==============================] - 2s 1ms/step - loss: 1.2438 - accuracy: 0.7079\n",
      "Epoch 4/100\n",
      "1705/1705 [==============================] - 2s 1ms/step - loss: 1.2175 - accuracy: 0.7086\n",
      "Epoch 5/100\n",
      "1705/1705 [==============================] - 2s 1ms/step - loss: 1.1983 - accuracy: 0.7084\n",
      "Epoch 6/100\n",
      "1705/1705 [==============================] - 2s 995us/step - loss: 1.1741 - accuracy: 0.7086\n",
      "Epoch 7/100\n",
      "1705/1705 [==============================] - 3s 2ms/step - loss: 1.1639 - accuracy: 0.7086\n",
      "Epoch 8/100\n",
      "1705/1705 [==============================] - 2s 1ms/step - loss: 1.1500 - accuracy: 0.7085\n",
      "Epoch 9/100\n",
      "1705/1705 [==============================] - 2s 1ms/step - loss: 1.1421 - accuracy: 0.7087\n",
      "Epoch 10/100\n",
      "1705/1705 [==============================] - 2s 1ms/step - loss: 1.1370 - accuracy: 0.7090\n",
      "Epoch 11/100\n",
      "1705/1705 [==============================] - 2s 1ms/step - loss: 1.1327 - accuracy: 0.7094\n",
      "Epoch 12/100\n",
      "1705/1705 [==============================] - 2s 1ms/step - loss: 1.1315 - accuracy: 0.7095\n",
      "Epoch 13/100\n",
      "1705/1705 [==============================] - 2s 1ms/step - loss: 1.1305 - accuracy: 0.7095\n",
      "Epoch 14/100\n",
      "1705/1705 [==============================] - 2s 1ms/step - loss: 1.1292 - accuracy: 0.7096\n",
      "Epoch 15/100\n",
      "1705/1705 [==============================] - 4s 2ms/step - loss: 1.1287 - accuracy: 0.7096\n",
      "Epoch 16/100\n",
      "1705/1705 [==============================] - 7s 4ms/step - loss: 1.1277 - accuracy: 0.7095\n",
      "Epoch 17/100\n",
      "1705/1705 [==============================] - 7s 4ms/step - loss: 1.1274 - accuracy: 0.7095\n",
      "Epoch 18/100\n",
      "1705/1705 [==============================] - 2s 1ms/step - loss: 1.1262 - accuracy: 0.7096\n",
      "Epoch 19/100\n",
      "1705/1705 [==============================] - 2s 1ms/step - loss: 1.1257 - accuracy: 0.7096\n",
      "Epoch 20/100\n",
      "1705/1705 [==============================] - 2s 998us/step - loss: 1.1246 - accuracy: 0.7096\n",
      "Epoch 21/100\n",
      "1705/1705 [==============================] - 2s 1ms/step - loss: 1.1233 - accuracy: 0.7097\n",
      "Epoch 22/100\n",
      "1705/1705 [==============================] - 2s 1ms/step - loss: 1.1233 - accuracy: 0.7097\n",
      "Epoch 23/100\n",
      "1705/1705 [==============================] - 2s 1ms/step - loss: 1.1224 - accuracy: 0.7098\n",
      "Epoch 24/100\n",
      "1705/1705 [==============================] - 2s 1ms/step - loss: 1.1220 - accuracy: 0.7098\n",
      "Epoch 25/100\n",
      "1705/1705 [==============================] - 3s 2ms/step - loss: 1.1209 - accuracy: 0.7098\n",
      "Epoch 26/100\n",
      "1705/1705 [==============================] - 2s 1ms/step - loss: 1.1201 - accuracy: 0.7098\n",
      "Epoch 27/100\n",
      "1705/1705 [==============================] - 2s 1ms/step - loss: 1.1200 - accuracy: 0.7099\n",
      "Epoch 28/100\n",
      "1705/1705 [==============================] - 2s 1ms/step - loss: 1.1193 - accuracy: 0.7098\n",
      "Epoch 29/100\n",
      "1705/1705 [==============================] - 2s 1ms/step - loss: 1.1183 - accuracy: 0.7100\n",
      "Epoch 30/100\n",
      "1705/1705 [==============================] - 2s 1ms/step - loss: 1.1184 - accuracy: 0.7100\n",
      "Epoch 31/100\n",
      "1705/1705 [==============================] - 2s 1ms/step - loss: 1.1171 - accuracy: 0.7099\n",
      "Epoch 32/100\n",
      "1705/1705 [==============================] - 2s 1ms/step - loss: 1.1171 - accuracy: 0.7099\n",
      "Epoch 33/100\n",
      "1705/1705 [==============================] - 2s 1ms/step - loss: 1.1160 - accuracy: 0.7100\n",
      "Epoch 34/100\n",
      "1705/1705 [==============================] - 2s 1ms/step - loss: 1.1156 - accuracy: 0.7102\n",
      "Epoch 35/100\n",
      "1705/1705 [==============================] - 2s 1ms/step - loss: 1.1152 - accuracy: 0.7102\n",
      "Epoch 36/100\n",
      "1705/1705 [==============================] - 2s 1ms/step - loss: 1.1150 - accuracy: 0.7100\n",
      "Epoch 37/100\n",
      "1705/1705 [==============================] - 6s 4ms/step - loss: 1.1144 - accuracy: 0.7101\n",
      "Epoch 38/100\n",
      "1705/1705 [==============================] - 5s 3ms/step - loss: 1.1139 - accuracy: 0.7102\n",
      "Epoch 39/100\n",
      "1705/1705 [==============================] - 2s 1ms/step - loss: 1.1124 - accuracy: 0.7102\n",
      "Epoch 40/100\n",
      "1705/1705 [==============================] - 2s 1ms/step - loss: 1.1124 - accuracy: 0.7102\n",
      "Epoch 41/100\n",
      "1705/1705 [==============================] - 2s 1ms/step - loss: 1.1120 - accuracy: 0.7104\n",
      "Epoch 42/100\n",
      "1705/1705 [==============================] - 2s 1ms/step - loss: 1.1110 - accuracy: 0.7106\n",
      "Epoch 43/100\n",
      "1705/1705 [==============================] - 2s 1ms/step - loss: 1.1108 - accuracy: 0.7105\n",
      "Epoch 44/100\n",
      "1705/1705 [==============================] - 2s 1ms/step - loss: 1.1102 - accuracy: 0.7106\n",
      "Epoch 45/100\n",
      "1705/1705 [==============================] - 2s 1ms/step - loss: 1.1096 - accuracy: 0.7104\n",
      "Epoch 46/100\n",
      "1705/1705 [==============================] - 2s 1ms/step - loss: 1.1100 - accuracy: 0.7108\n",
      "Epoch 47/100\n",
      "1705/1705 [==============================] - 2s 1ms/step - loss: 1.1105 - accuracy: 0.7107\n",
      "Epoch 48/100\n",
      "1705/1705 [==============================] - 2s 1ms/step - loss: 1.1083 - accuracy: 0.7106\n",
      "Epoch 49/100\n",
      "1705/1705 [==============================] - 2s 1ms/step - loss: 1.1092 - accuracy: 0.7108\n",
      "Epoch 50/100\n",
      "1705/1705 [==============================] - 2s 1ms/step - loss: 1.1075 - accuracy: 0.7109\n",
      "Epoch 51/100\n",
      "1705/1705 [==============================] - 2s 1ms/step - loss: 1.1081 - accuracy: 0.7108\n",
      "Epoch 52/100\n",
      "1705/1705 [==============================] - 2s 1ms/step - loss: 1.1077 - accuracy: 0.7107\n",
      "Epoch 53/100\n",
      "1705/1705 [==============================] - 2s 1ms/step - loss: 1.1066 - accuracy: 0.7110\n",
      "Epoch 54/100\n",
      "1705/1705 [==============================] - 3s 2ms/step - loss: 1.1063 - accuracy: 0.7109\n",
      "Epoch 55/100\n",
      "1705/1705 [==============================] - 2s 1ms/step - loss: 1.1062 - accuracy: 0.7110\n",
      "Epoch 56/100\n",
      "1705/1705 [==============================] - 2s 1ms/step - loss: 1.1060 - accuracy: 0.7110\n",
      "Epoch 57/100\n",
      "1705/1705 [==============================] - 2s 1ms/step - loss: 1.1049 - accuracy: 0.7111\n",
      "Epoch 58/100\n",
      "1705/1705 [==============================] - 2s 1ms/step - loss: 1.1048 - accuracy: 0.7110\n",
      "Epoch 59/100\n",
      "1705/1705 [==============================] - 2s 1ms/step - loss: 1.1050 - accuracy: 0.7110\n",
      "Epoch 60/100\n",
      "1705/1705 [==============================] - 2s 1ms/step - loss: 1.1053 - accuracy: 0.7110\n",
      "Epoch 61/100\n",
      "1705/1705 [==============================] - 2s 1ms/step - loss: 1.1038 - accuracy: 0.7112\n",
      "Epoch 62/100\n",
      "1705/1705 [==============================] - 3s 1ms/step - loss: 1.1032 - accuracy: 0.7111\n",
      "Epoch 63/100\n",
      "1705/1705 [==============================] - 2s 1ms/step - loss: 1.1027 - accuracy: 0.7114\n",
      "Epoch 64/100\n",
      "1705/1705 [==============================] - 2s 1ms/step - loss: 1.1028 - accuracy: 0.7114\n",
      "Epoch 65/100\n",
      "1705/1705 [==============================] - 2s 1ms/step - loss: 1.1026 - accuracy: 0.7113\n",
      "Epoch 66/100\n",
      "1705/1705 [==============================] - 2s 1ms/step - loss: 1.1022 - accuracy: 0.7110\n",
      "Epoch 67/100\n",
      "1705/1705 [==============================] - 2s 1ms/step - loss: 1.1016 - accuracy: 0.7113\n",
      "Epoch 68/100\n",
      "1705/1705 [==============================] - 2s 1ms/step - loss: 1.1016 - accuracy: 0.7116\n",
      "Epoch 69/100\n",
      "1705/1705 [==============================] - 2s 1ms/step - loss: 1.1012 - accuracy: 0.7112\n",
      "Epoch 70/100\n",
      "1705/1705 [==============================] - 2s 1ms/step - loss: 1.1011 - accuracy: 0.7114\n",
      "Epoch 71/100\n",
      "1705/1705 [==============================] - 2s 1ms/step - loss: 1.1012 - accuracy: 0.7113\n",
      "Epoch 72/100\n",
      "1705/1705 [==============================] - 2s 1ms/step - loss: 1.1007 - accuracy: 0.7118\n",
      "Epoch 73/100\n",
      "1705/1705 [==============================] - 2s 1ms/step - loss: 1.1008 - accuracy: 0.7113\n",
      "Epoch 74/100\n",
      "1705/1705 [==============================] - 2s 1ms/step - loss: 1.1000 - accuracy: 0.7115\n",
      "Epoch 75/100\n",
      "1705/1705 [==============================] - 2s 1ms/step - loss: 1.0999 - accuracy: 0.7118\n",
      "Epoch 76/100\n",
      "1705/1705 [==============================] - 2s 1ms/step - loss: 1.0997 - accuracy: 0.7116\n",
      "Epoch 77/100\n",
      "1705/1705 [==============================] - 2s 1ms/step - loss: 1.0994 - accuracy: 0.7118\n",
      "Epoch 78/100\n",
      "1705/1705 [==============================] - 2s 1ms/step - loss: 1.0995 - accuracy: 0.7118\n",
      "Epoch 79/100\n"
     ]
    },
    {
     "name": "stdout",
     "output_type": "stream",
     "text": [
      "1705/1705 [==============================] - 2s 1ms/step - loss: 1.0992 - accuracy: 0.7117\n",
      "Epoch 80/100\n",
      "1705/1705 [==============================] - 2s 1ms/step - loss: 1.0998 - accuracy: 0.7119\n",
      "Epoch 81/100\n",
      "1705/1705 [==============================] - 2s 1ms/step - loss: 1.0999 - accuracy: 0.7116\n",
      "Epoch 82/100\n",
      "1705/1705 [==============================] - 2s 1ms/step - loss: 1.0982 - accuracy: 0.7118\n",
      "Epoch 83/100\n",
      "1705/1705 [==============================] - 2s 1ms/step - loss: 1.0982 - accuracy: 0.7118\n",
      "Epoch 84/100\n",
      "1705/1705 [==============================] - 2s 1ms/step - loss: 1.0975 - accuracy: 0.7119\n",
      "Epoch 85/100\n",
      "1705/1705 [==============================] - 2s 1ms/step - loss: 1.0979 - accuracy: 0.7118\n",
      "Epoch 86/100\n",
      "1705/1705 [==============================] - 3s 2ms/step - loss: 1.0978 - accuracy: 0.7120\n",
      "Epoch 87/100\n",
      "1705/1705 [==============================] - 1s 865us/step - loss: 1.0976 - accuracy: 0.7120\n",
      "Epoch 88/100\n",
      "1705/1705 [==============================] - 1s 773us/step - loss: 1.0971 - accuracy: 0.7119\n",
      "Epoch 89/100\n",
      "1705/1705 [==============================] - 1s 769us/step - loss: 1.0973 - accuracy: 0.7121\n",
      "Epoch 90/100\n",
      "1705/1705 [==============================] - 1s 775us/step - loss: 1.0969 - accuracy: 0.7124\n",
      "Epoch 91/100\n",
      "1705/1705 [==============================] - 1s 771us/step - loss: 1.0974 - accuracy: 0.7122\n",
      "Epoch 92/100\n",
      "1705/1705 [==============================] - 1s 770us/step - loss: 1.0965 - accuracy: 0.7120\n",
      "Epoch 93/100\n",
      "1705/1705 [==============================] - 1s 770us/step - loss: 1.0963 - accuracy: 0.7119\n",
      "Epoch 94/100\n",
      "1705/1705 [==============================] - 1s 769us/step - loss: 1.0965 - accuracy: 0.7121\n",
      "Epoch 95/100\n",
      "1705/1705 [==============================] - 1s 770us/step - loss: 1.0961 - accuracy: 0.7121\n",
      "Epoch 96/100\n",
      "1705/1705 [==============================] - 1s 773us/step - loss: 1.0960 - accuracy: 0.7122\n",
      "Epoch 97/100\n",
      "1705/1705 [==============================] - 2s 1ms/step - loss: 1.0951 - accuracy: 0.7124\n",
      "Epoch 98/100\n",
      "1705/1705 [==============================] - 2s 886us/step - loss: 1.0957 - accuracy: 0.7124\n",
      "Epoch 99/100\n",
      "1705/1705 [==============================] - 1s 774us/step - loss: 1.0962 - accuracy: 0.7124\n",
      "Epoch 100/100\n",
      "1705/1705 [==============================] - 1s 780us/step - loss: 1.0957 - accuracy: 0.7124\n"
     ]
    },
    {
     "data": {
      "text/plain": [
       "<keras.callbacks.History at 0x1ef3e85f760>"
      ]
     },
     "execution_count": 19,
     "metadata": {},
     "output_type": "execute_result"
    }
   ],
   "source": [
    "#model definition\n",
    "model = ml.Sequential()\n",
    "model.add (l.Dense(128, input_dim = x_train.shape[1], activation = 'relu'))\n",
    "model.add (l.Dense(11, activation = 'softmax'))\n",
    "\n",
    "#model compile\n",
    "model.compile ( loss = 'categorical_crossentropy', optimizer = 'adam', metrics = ['accuracy'])\n",
    "\n",
    "#train model\n",
    "model.fit (x_train, y_train_nn, epochs = 100)"
   ]
  },
  {
   "cell_type": "code",
   "execution_count": 20,
   "id": "0f969d33",
   "metadata": {
    "ExecuteTime": {
     "end_time": "2021-12-09T18:56:42.735240Z",
     "start_time": "2021-12-09T18:56:42.297144Z"
    },
    "hidden": true
   },
   "outputs": [],
   "source": [
    "#predicition\n",
    "pred_nn = model.predict (x_test)\n",
    "\n",
    "#invert prediction\n",
    "yhat_nn = ohe.inverse_transform (pred_nn)\n",
    "\n",
    "#prediction prepare\n",
    "y_test_nn = y_test.to_numpy()\n",
    "yhat_nn = yhat_nn.reshape (1, -1)[0]"
   ]
  },
  {
   "cell_type": "code",
   "execution_count": 27,
   "id": "3bcb6c47",
   "metadata": {
    "ExecuteTime": {
     "end_time": "2021-12-09T19:01:57.258334Z",
     "start_time": "2021-12-09T19:01:56.146676Z"
    },
    "hidden": true
   },
   "outputs": [
    {
     "name": "stdout",
     "output_type": "stream",
     "text": [
      "Accuracy: 0.7031903190319032\n"
     ]
    },
    {
     "data": {
      "text/plain": [
       "<AxesSubplot:title={'center':'Confusion Matrix'}, xlabel='Predicted label', ylabel='True label'>"
      ]
     },
     "execution_count": 27,
     "metadata": {},
     "output_type": "execute_result"
    },
    {
     "data": {
      "image/png": "[encoded data removed]",
      "text/plain": [
       "<Figure size 864x864 with 2 Axes>"
      ]
     },
     "metadata": {
      "needs_background": "light"
     },
     "output_type": "display_data"
    }
   ],
   "source": [
    "# Accuracy \n",
    "acc_nn = m.accuracy_score (y_test_nn, yhat_nn)\n",
    "print( 'Accuracy: {}'.format (acc_nn))\n",
    "\n",
    "#Confusion Matrix\n",
    "mt.plot_confusion_matrix (y_test_nn, yhat_nn, normalize = False, figsize = (12,12))"
   ]
  }
 ],
 "metadata": {
  "kernelspec": {
   "display_name": "Python 3 (ipykernel)",
   "language": "python",
   "name": "python3"
  },
  "language_info": {
   "codemirror_mode": {
    "name": "ipython",
    "version": 3
   },
   "file_extension": ".py",
   "mimetype": "text/x-python",
   "name": "python",
   "nbconvert_exporter": "python",
   "pygments_lexer": "ipython3",
   "version": "3.8.12"
  }
 },
 "nbformat": 4,
 "nbformat_minor": 5
}
